{
 "cells": [
  {
   "cell_type": "code",
   "execution_count": 1,
   "id": "6a369c16",
   "metadata": {},
   "outputs": [],
   "source": [
    "import pandas as pd"
   ]
  },
  {
   "cell_type": "markdown",
   "id": "100a9bf8",
   "metadata": {},
   "source": [
    "importing data"
   ]
  },
  {
   "cell_type": "code",
   "execution_count": 2,
   "id": "9aca424b",
   "metadata": {},
   "outputs": [
    {
     "name": "stderr",
     "output_type": "stream",
     "text": [
      "C:\\Users\\robertaparna\\AppData\\Local\\Temp\\ipykernel_22396\\692714877.py:1: DtypeWarning: Columns (5,9) have mixed types. Specify dtype option on import or set low_memory=False.\n",
      "  ufo_data = pd.read_csv(\"ufo_sighting_data.csv\")\n"
     ]
    }
   ],
   "source": [
    "ufo_data = pd.read_csv(\"ufo_sighting_data.csv\")\n",
    "moon_data_raw = pd.read_html(\"lunar_calendar.html\")\n",
    "meteorite_data = pd.read_csv(\"meteorite_data.csv\")"
   ]
  },
  {
   "cell_type": "markdown",
   "id": "a0fe658b",
   "metadata": {},
   "source": [
    "### CREATING A MODEL FOR PREDICTING UFO SHAPE"
   ]
  },
  {
   "cell_type": "code",
   "execution_count": 4,
   "id": "d23b8426",
   "metadata": {},
   "outputs": [],
   "source": [
    "#disregarding colums that won't be useful\n",
    "ufo_data = ufo_data.drop(['described_duration_of_encounter', 'description', 'city', 'state/province', 'latitude', 'longitude'], axis=1)\n",
    "ufo_data = ufo_data.dropna()\n",
    "\n",
    "#changing invalid values\n",
    "ufo_data['Date_time'] = ufo_data['Date_time'].str.replace('24:','00:')\n",
    "ufo_data['length_of_encounter_seconds'] = ufo_data['length_of_encounter_seconds'].str.replace('`', '')\n",
    "#ufo_data['latitude'] = ufo_data['latitude'].str.replace('q', '')\n",
    "\n",
    "ufo_data = pd.get_dummies(ufo_data, columns=['country'])\n",
    "\n",
    "ufo_data_clone = ufo_data.copy()"
   ]
  },
  {
   "cell_type": "code",
   "execution_count": 5,
   "id": "40c33da0",
   "metadata": {},
   "outputs": [],
   "source": [
    "#balancing\n",
    "shapes_value_counts = ufo_data['UFO_shape'].value_counts()\n",
    "\n",
    "shapes = ufo_data['UFO_shape'].unique()\n",
    "samples = []\n",
    "\n",
    "for shape in shapes:\n",
    "\n",
    "    if (shapes_value_counts[shape] > 1177):\n",
    "        samples.append(ufo_data[ufo_data['UFO_shape'] == shape].sample(1177))\n",
    "        \n",
    "ufo_data = pd.concat(samples)\n"
   ]
  },
  {
   "cell_type": "code",
   "execution_count": 6,
   "id": "67c02af6",
   "metadata": {},
   "outputs": [],
   "source": [
    "#preparing\n",
    "ufo_data['Date_time'] = pd.to_datetime(ufo_data['Date_time'])\n",
    "\n",
    "ufo_data['date_documented'] = pd.to_datetime(ufo_data['date_documented'])\n",
    "ufo_data['UFO_shape'] = ufo_data['UFO_shape'].astype('category')\n",
    "ufo_data['UFO_shape_cat'] = ufo_data['UFO_shape'].cat.codes\n",
    "categories = dict(enumerate(ufo_data['UFO_shape'].cat.categories))\n",
    "ufo_data = ufo_data.drop(['UFO_shape'], axis=1)"
   ]
  },
  {
   "cell_type": "code",
   "execution_count": 7,
   "id": "7c2e31b9",
   "metadata": {},
   "outputs": [],
   "source": [
    "#model is more accurate without\n",
    "\n",
    "#ufo_data['incident_year'] = ufo_data['Date_time'].dt.year\n",
    "#ufo_data['incident_month'] = ufo_data['Date_time'].dt.month\n",
    "#ufo_data['incident_day'] = ufo_data['Date_time'].dt.dayofweek\n",
    "ufo_data['incident_hour'] = ufo_data['Date_time'].dt.hour\n",
    "ufo_data['incident_minute'] = ufo_data['Date_time'].dt.minute\n",
    "\n",
    "#feels like an unnececcary  feature and the model is more accurate without\n",
    "\n",
    "#ufo_data['documentation_year'] = ufo_data['date_documented'].dt.year\n",
    "#ufo_data['documentation_month'] = ufo_data['date_documented'].dt.month\n",
    "#ufo_data['documentation_day'] = ufo_data['date_documented'].dt.day\n",
    "\n",
    "ufo_data = ufo_data.drop(['Date_time', 'date_documented'], axis=1)\n",
    "ufo_data = ufo_data.dropna()"
   ]
  },
  {
   "cell_type": "code",
   "execution_count": 8,
   "id": "3bd43926",
   "metadata": {},
   "outputs": [],
   "source": [
    "from sklearn.model_selection import train_test_split\n",
    "\n",
    "#splitting into features and labels\n",
    "ufo_data_X = ufo_data.drop(['UFO_shape_cat'], axis=1)\n",
    "ufo_data_y = ufo_data['UFO_shape_cat']\n",
    "\n",
    "X_train, X_test, y_train, y_test = train_test_split(ufo_data_X, ufo_data_y, test_size = 0.1)"
   ]
  },
  {
   "cell_type": "code",
   "execution_count": 9,
   "id": "e2cec498",
   "metadata": {},
   "outputs": [],
   "source": [
    "from sklearn.tree import DecisionTreeClassifier\n",
    "\n",
    "#training a model\n",
    "\n",
    "model1 = DecisionTreeClassifier(criterion='entropy', max_depth = 4, random_state=5).fit(X_train, y_train)"
   ]
  },
  {
   "cell_type": "code",
   "execution_count": 10,
   "id": "92a09db3",
   "metadata": {},
   "outputs": [
    {
     "data": {
      "text/plain": [
       "array([[39, 14,  0,  0,  7, 24,  0,  0,  0,  0, 23,  0],\n",
       "       [26, 32,  0,  0,  8, 14,  0,  0,  0,  0, 16,  0],\n",
       "       [24, 11,  0,  0, 10, 25,  0,  0,  0,  0, 20,  0],\n",
       "       [34, 18,  0,  0,  3, 21,  0,  0,  0,  0, 29,  0],\n",
       "       [14, 13,  0,  0, 21, 27,  0,  0,  0,  0, 24,  0],\n",
       "       [22, 16,  0,  0, 12, 25,  0,  0,  0,  0, 28,  0],\n",
       "       [27,  6,  0,  0, 12, 21,  0,  0,  0,  0, 18,  0],\n",
       "       [24, 15,  0,  0,  4, 18,  0,  0,  0,  0, 20,  0],\n",
       "       [20, 16,  0,  0,  6, 20,  0,  0,  0,  0, 23,  0],\n",
       "       [41, 19,  0,  0, 12, 27,  0,  0,  0,  0, 16,  0],\n",
       "       [19, 14,  0,  0,  5, 27,  0,  0,  0,  0, 29,  0],\n",
       "       [32, 13,  0,  0,  3, 29,  0,  0,  0,  0, 19,  0]], dtype=int64)"
      ]
     },
     "execution_count": 10,
     "metadata": {},
     "output_type": "execute_result"
    }
   ],
   "source": [
    "from sklearn.metrics import accuracy_score, confusion_matrix, matthews_corrcoef, cohen_kappa_score\n",
    "\n",
    "#getting the predictions and using different metrics to evaluate the model\n",
    "\n",
    "predictions = model1.predict(X_test)\n",
    "confusion_matrix(y_test, predictions)"
   ]
  },
  {
   "cell_type": "code",
   "execution_count": 11,
   "id": "49c76b21",
   "metadata": {},
   "outputs": [
    {
     "data": {
      "text/plain": [
       "0.1264069264069264"
      ]
     },
     "execution_count": 11,
     "metadata": {},
     "output_type": "execute_result"
    }
   ],
   "source": [
    "accuracy_score(y_test, predictions)"
   ]
  },
  {
   "cell_type": "code",
   "execution_count": 12,
   "id": "cb8f3917",
   "metadata": {},
   "outputs": [
    {
     "data": {
      "text/plain": [
       "0.04662219745932424"
      ]
     },
     "execution_count": 12,
     "metadata": {},
     "output_type": "execute_result"
    }
   ],
   "source": [
    "matthews_corrcoef(y_test, predictions)"
   ]
  },
  {
   "cell_type": "code",
   "execution_count": 13,
   "id": "cdc6eb0b",
   "metadata": {},
   "outputs": [
    {
     "data": {
      "text/plain": [
       "0.04309380742570268"
      ]
     },
     "execution_count": 13,
     "metadata": {},
     "output_type": "execute_result"
    }
   ],
   "source": [
    "cohen_kappa_score(y_test, predictions)"
   ]
  },
  {
   "cell_type": "markdown",
   "id": "e23307c0",
   "metadata": {},
   "source": [
    "there are 16 classes in the train-test set, so random guessing would have 0.0625% accuracy. the accuracy score shows that this model can predict twice as accurately. the other metrics are not as optimistic, while they show that this model is slightly better than random guessing, it is still not very good."
   ]
  },
  {
   "cell_type": "markdown",
   "id": "5383ce14",
   "metadata": {},
   "source": [
    "### CREATING A MODEL FOR PREDICTING DURATION"
   ]
  },
  {
   "cell_type": "code",
   "execution_count": 14,
   "id": "707c7d8e",
   "metadata": {},
   "outputs": [],
   "source": [
    "#preparing again\n",
    "ufo_data= ufo_data_clone\n",
    "\n",
    "ufo_data['Date_time'] = pd.to_datetime(ufo_data['Date_time'])\n",
    "\n",
    "ufo_data['date_documented'] = pd.to_datetime(ufo_data['date_documented'])\n",
    "ufo_data = pd.get_dummies(ufo_data, columns=['UFO_shape'])\n",
    "\n",
    "ufo_data['incident_hour'] = ufo_data['Date_time'].dt.hour\n",
    "ufo_data['incident_minute'] = ufo_data['Date_time'].dt.minute\n",
    "#ufo_data['incident_year'] = ufo_data['Date_time'].dt.year\n",
    "#ufo_data['incident_month'] = ufo_data['Date_time'].dt.month\n",
    "#ufo_data['incident_day'] = ufo_data['Date_time'].dt.dayofweek\n",
    "\n",
    "ufo_data = ufo_data.drop(['Date_time', 'date_documented'], axis=1)\n",
    "ufo_data = ufo_data.dropna()\n",
    "\n",
    "ufo_data_X = ufo_data.drop(['length_of_encounter_seconds'], axis=1)\n",
    "ufo_data_y = ufo_data['length_of_encounter_seconds']\n",
    "\n",
    "X_train, X_test, y_train, y_test = train_test_split(ufo_data_X, ufo_data_y, test_size = 0.1)"
   ]
  },
  {
   "cell_type": "code",
   "execution_count": 24,
   "id": "f20ddde9",
   "metadata": {},
   "outputs": [
    {
     "name": "stdout",
     "output_type": "stream",
     "text": [
      "[0.6972037  4.98553759 6.75376979 ... 5.42650709 5.98636141 3.50037159]\n"
     ]
    }
   ],
   "source": [
    "from scipy import stats\n",
    "#trying to balance the training data\n",
    "\n",
    "y_train_balanced, _lambda = stats.boxcox(y_train.astype('float'))\n",
    "print(y_train_balanced)"
   ]
  },
  {
   "cell_type": "code",
   "execution_count": 25,
   "id": "09a65e46",
   "metadata": {},
   "outputs": [],
   "source": [
    "from sklearn.linear_model import LinearRegression\n",
    "from sklearn.metrics import r2_score\n",
    "\n",
    "model2 = LinearRegression().fit(X_train, y_train_balanced)"
   ]
  },
  {
   "cell_type": "code",
   "execution_count": 26,
   "id": "c213ea70",
   "metadata": {},
   "outputs": [
    {
     "data": {
      "text/plain": [
       "<AxesSubplot:>"
      ]
     },
     "execution_count": 26,
     "metadata": {},
     "output_type": "execute_result"
    },
    {
     "data": {
      "image/png": "[encoded data removed]",
      "text/plain": [
       "<Figure size 432x288 with 1 Axes>"
      ]
     },
     "metadata": {
      "needs_background": "light"
     },
     "output_type": "display_data"
    }
   ],
   "source": [
    "import matplotlib.pyplot as plt\n",
    "predictions = model2.predict(X_test)\n",
    "\n",
    "results = pd.DataFrame()\n",
    "\n",
    "y_test.hist(bins=200)"
   ]
  },
  {
   "cell_type": "code",
   "execution_count": 27,
   "id": "ba18ff45",
   "metadata": {},
   "outputs": [
    {
     "data": {
      "text/plain": [
       "-0.002684974934616502"
      ]
     },
     "execution_count": 27,
     "metadata": {},
     "output_type": "execute_result"
    }
   ],
   "source": [
    "r2_score(y_test, predictions)"
   ]
  },
  {
   "cell_type": "code",
   "execution_count": 28,
   "id": "9993948c",
   "metadata": {},
   "outputs": [
    {
     "data": {
      "text/plain": [
       "1855.6349776922755"
      ]
     },
     "execution_count": 28,
     "metadata": {},
     "output_type": "execute_result"
    }
   ],
   "source": [
    "from sklearn.metrics import mean_absolute_error, mean_squared_error\n",
    "mean_absolute_error(y_test, predictions)"
   ]
  },
  {
   "cell_type": "code",
   "execution_count": 29,
   "id": "08c4fe01",
   "metadata": {},
   "outputs": [
    {
     "data": {
      "text/plain": [
       "1285587090.6447108"
      ]
     },
     "execution_count": 29,
     "metadata": {},
     "output_type": "execute_result"
    }
   ],
   "source": [
    "mean_squared_error(y_test, predictions)"
   ]
  },
  {
   "cell_type": "markdown",
   "id": "20f9aff6",
   "metadata": {},
   "source": [
    "all the metrics show that this model is not very accurate at all no matter what features we try to use, which suggests that the duration of encounters cannot be predicted from time and location"
   ]
  },
  {
   "cell_type": "markdown",
   "id": "9659b357",
   "metadata": {},
   "source": [
    "### FINDING A CORRELATION BETWEEN SIGHTINGS AND MOON PHASES\n"
   ]
  },
  {
   "cell_type": "code",
   "execution_count": 48,
   "id": "656102d4",
   "metadata": {},
   "outputs": [],
   "source": [
    "ufo_data = ufo_data_clone\n"
   ]
  },
  {
   "cell_type": "code",
   "execution_count": 46,
   "id": "d07ff0ce",
   "metadata": {},
   "outputs": [
    {
     "name": "stderr",
     "output_type": "stream",
     "text": [
      "C:\\Users\\robertaparna\\AppData\\Local\\Temp\\ipykernel_22396\\2423268326.py:14: UserWarning: Parsing '31/12/2013' in DD/MM/YYYY format. Provide format or specify infer_datetime_format=True for consistent parsing.\n",
      "  moon_data = moon_data[moon_data['full_moons'] <= pd.to_datetime('31/12/2013')]\n"
     ]
    },
    {
     "data": {
      "text/html": [
       "<div>\n",
       "<style scoped>\n",
       "    .dataframe tbody tr th:only-of-type {\n",
       "        vertical-align: middle;\n",
       "    }\n",
       "\n",
       "    .dataframe tbody tr th {\n",
       "        vertical-align: top;\n",
       "    }\n",
       "\n",
       "    .dataframe thead th {\n",
       "        text-align: right;\n",
       "    }\n",
       "</style>\n",
       "<table border=\"1\" class=\"dataframe\">\n",
       "  <thead>\n",
       "    <tr style=\"text-align: right;\">\n",
       "      <th></th>\n",
       "      <th>date</th>\n",
       "      <th>phase</th>\n",
       "    </tr>\n",
       "  </thead>\n",
       "  <tbody>\n",
       "    <tr>\n",
       "      <th>623</th>\n",
       "      <td>1949-11-05</td>\n",
       "      <td>full_moons</td>\n",
       "    </tr>\n",
       "    <tr>\n",
       "      <th>624</th>\n",
       "      <td>1949-12-05</td>\n",
       "      <td>full_moons</td>\n",
       "    </tr>\n",
       "    <tr>\n",
       "      <th>625</th>\n",
       "      <td>1950-01-03</td>\n",
       "      <td>full_moons</td>\n",
       "    </tr>\n",
       "    <tr>\n",
       "      <th>623</th>\n",
       "      <td>1950-01-18</td>\n",
       "      <td>new_moon</td>\n",
       "    </tr>\n",
       "    <tr>\n",
       "      <th>623</th>\n",
       "      <td>1950-01-25</td>\n",
       "      <td>first_quarter_moon</td>\n",
       "    </tr>\n",
       "    <tr>\n",
       "      <th>...</th>\n",
       "      <td>...</td>\n",
       "      <td>...</td>\n",
       "    </tr>\n",
       "    <tr>\n",
       "      <th>1415</th>\n",
       "      <td>2014-02-06</td>\n",
       "      <td>first_quarter_moon</td>\n",
       "    </tr>\n",
       "    <tr>\n",
       "      <th>1416</th>\n",
       "      <td>2014-02-22</td>\n",
       "      <td>third_quarter_moons</td>\n",
       "    </tr>\n",
       "    <tr>\n",
       "      <th>1415</th>\n",
       "      <td>2014-03-01</td>\n",
       "      <td>new_moon</td>\n",
       "    </tr>\n",
       "    <tr>\n",
       "      <th>1416</th>\n",
       "      <td>2014-03-08</td>\n",
       "      <td>first_quarter_moon</td>\n",
       "    </tr>\n",
       "    <tr>\n",
       "      <th>1416</th>\n",
       "      <td>2014-03-30</td>\n",
       "      <td>new_moon</td>\n",
       "    </tr>\n",
       "  </tbody>\n",
       "</table>\n",
       "<p>3176 rows × 2 columns</p>\n",
       "</div>"
      ],
      "text/plain": [
       "           date                phase\n",
       "623  1949-11-05           full_moons\n",
       "624  1949-12-05           full_moons\n",
       "625  1950-01-03           full_moons\n",
       "623  1950-01-18             new_moon\n",
       "623  1950-01-25   first_quarter_moon\n",
       "...         ...                  ...\n",
       "1415 2014-02-06   first_quarter_moon\n",
       "1416 2014-02-22  third_quarter_moons\n",
       "1415 2014-03-01             new_moon\n",
       "1416 2014-03-08   first_quarter_moon\n",
       "1416 2014-03-30             new_moon\n",
       "\n",
       "[3176 rows x 2 columns]"
      ]
     },
     "execution_count": 46,
     "metadata": {},
     "output_type": "execute_result"
    }
   ],
   "source": [
    "#making a usable dataframe\n",
    "moon_data = moon_data_raw[0]\n",
    "moon_data = moon_data.drop(['Unnamed: 0'], axis= 1)\n",
    "moon_data = moon_data.rename(columns = {'Unnamed: 1' : 'new_moons', 'Unnamed: 2' : 'first_quarter_moon', 'Unnamed: 3' : 'full_moons', 'Unnamed: 4' : 'third_quarter_moons'})\n",
    "moon_data = moon_data.drop([0, 1])\n",
    "moon_data\n",
    "\n",
    "#disregarding data with dates out ouf sightings data scope\n",
    "moon_data['full_moons'] = pd.to_datetime(moon_data['full_moons'])\n",
    "moon_data['new_moons'] = pd.to_datetime(moon_data['new_moons'])\n",
    "moon_data['first_quarter_moon'] = pd.to_datetime(moon_data['first_quarter_moon'])\n",
    "moon_data['third_quarter_moons'] = pd.to_datetime(moon_data['third_quarter_moons'])\n",
    "moon_data = moon_data[moon_data['full_moons'] >= pd.to_datetime(\"10/10/1949\") ]\n",
    "moon_data = moon_data[moon_data['full_moons'] <= pd.to_datetime('31/12/2013')]\n",
    "\n",
    "moon_data  \n",
    "\n",
    "moon_data1 = pd.DataFrame()\n",
    "moon_data2 = pd.DataFrame()\n",
    "moon_data3 = pd.DataFrame()\n",
    "moon_data4 = pd.DataFrame()\n",
    "\n",
    "moon_data1['date'], moon_data1['phase'] = [moon_data[\"new_moons\"], 'new_moon']\n",
    "moon_data2['date'], moon_data2['phase'] = [moon_data[\"full_moons\"], 'full_moons']\n",
    "moon_data3['date'], moon_data3['phase'] = [moon_data[\"first_quarter_moon\"], 'first_quarter_moon']\n",
    "moon_data4['date'], moon_data4['phase'] = [moon_data[\"third_quarter_moons\"], 'third_quarter_moons']\n",
    "\n",
    "moon_data = pd.concat([moon_data1, moon_data2, moon_data3, moon_data4])\n",
    "moon_data =moon_data.sort_values(by = ['date'])\n",
    "moon_data"
   ]
  },
  {
   "cell_type": "code",
   "execution_count": 75,
   "id": "8aa4d913",
   "metadata": {},
   "outputs": [
    {
     "data": {
      "text/html": [
       "<div>\n",
       "<style scoped>\n",
       "    .dataframe tbody tr th:only-of-type {\n",
       "        vertical-align: middle;\n",
       "    }\n",
       "\n",
       "    .dataframe tbody tr th {\n",
       "        vertical-align: top;\n",
       "    }\n",
       "\n",
       "    .dataframe thead th {\n",
       "        text-align: right;\n",
       "    }\n",
       "</style>\n",
       "<table border=\"1\" class=\"dataframe\">\n",
       "  <thead>\n",
       "    <tr style=\"text-align: right;\">\n",
       "      <th></th>\n",
       "      <th>date</th>\n",
       "      <th>phase</th>\n",
       "      <th>sightings</th>\n",
       "    </tr>\n",
       "  </thead>\n",
       "  <tbody>\n",
       "    <tr>\n",
       "      <th>623</th>\n",
       "      <td>1949-11-05</td>\n",
       "      <td>full_moons</td>\n",
       "      <td>0</td>\n",
       "    </tr>\n",
       "    <tr>\n",
       "      <th>624</th>\n",
       "      <td>1949-12-05</td>\n",
       "      <td>full_moons</td>\n",
       "      <td>0</td>\n",
       "    </tr>\n",
       "    <tr>\n",
       "      <th>625</th>\n",
       "      <td>1950-01-03</td>\n",
       "      <td>full_moons</td>\n",
       "      <td>0</td>\n",
       "    </tr>\n",
       "    <tr>\n",
       "      <th>623</th>\n",
       "      <td>1950-01-18</td>\n",
       "      <td>new_moon</td>\n",
       "      <td>0</td>\n",
       "    </tr>\n",
       "    <tr>\n",
       "      <th>623</th>\n",
       "      <td>1950-01-25</td>\n",
       "      <td>first_quarter_moon</td>\n",
       "      <td>0</td>\n",
       "    </tr>\n",
       "    <tr>\n",
       "      <th>...</th>\n",
       "      <td>...</td>\n",
       "      <td>...</td>\n",
       "      <td>...</td>\n",
       "    </tr>\n",
       "    <tr>\n",
       "      <th>1415</th>\n",
       "      <td>2014-02-06</td>\n",
       "      <td>first_quarter_moon</td>\n",
       "      <td>0</td>\n",
       "    </tr>\n",
       "    <tr>\n",
       "      <th>1416</th>\n",
       "      <td>2014-02-22</td>\n",
       "      <td>third_quarter_moons</td>\n",
       "      <td>0</td>\n",
       "    </tr>\n",
       "    <tr>\n",
       "      <th>1415</th>\n",
       "      <td>2014-03-01</td>\n",
       "      <td>new_moon</td>\n",
       "      <td>2</td>\n",
       "    </tr>\n",
       "    <tr>\n",
       "      <th>1416</th>\n",
       "      <td>2014-03-08</td>\n",
       "      <td>first_quarter_moon</td>\n",
       "      <td>2</td>\n",
       "    </tr>\n",
       "    <tr>\n",
       "      <th>1416</th>\n",
       "      <td>2014-03-30</td>\n",
       "      <td>new_moon</td>\n",
       "      <td>0</td>\n",
       "    </tr>\n",
       "  </tbody>\n",
       "</table>\n",
       "<p>3176 rows × 3 columns</p>\n",
       "</div>"
      ],
      "text/plain": [
       "           date                phase  sightings\n",
       "623  1949-11-05           full_moons          0\n",
       "624  1949-12-05           full_moons          0\n",
       "625  1950-01-03           full_moons          0\n",
       "623  1950-01-18             new_moon          0\n",
       "623  1950-01-25   first_quarter_moon          0\n",
       "...         ...                  ...        ...\n",
       "1415 2014-02-06   first_quarter_moon          0\n",
       "1416 2014-02-22  third_quarter_moons          0\n",
       "1415 2014-03-01             new_moon          2\n",
       "1416 2014-03-08   first_quarter_moon          2\n",
       "1416 2014-03-30             new_moon          0\n",
       "\n",
       "[3176 rows x 3 columns]"
      ]
     },
     "execution_count": 75,
     "metadata": {},
     "output_type": "execute_result"
    }
   ],
   "source": [
    "import datetime\n",
    "\n",
    "def count_sightings(x):\n",
    "    sightings = 0\n",
    "    \n",
    "    x_1 = x + datetime.timedelta(days=1)\n",
    "    x_2 = x - datetime.timedelta(days=1)\n",
    "    \n",
    "    try:\n",
    "        sightings += ufo_data['Date_time'].value_counts()[x].sum()\n",
    "    except:\n",
    "        pass\n",
    "    \n",
    "    try:\n",
    "        pass\n",
    "        #sightings += ufo_data['Date_time'].value_counts()[x_1].sum()\n",
    "    except:\n",
    "        pass\n",
    "    \n",
    "    try:\n",
    "        pass\n",
    "        #sightings += ufo_data['Date_time'].value_counts()[x_2].sum()\n",
    "    except:\n",
    "        pass\n",
    "    \n",
    "    return sightings\n",
    "    \n",
    "    \n",
    "\n",
    "moon_data['sightings'] = [count_sightings(x) for x in moon_data['date']]\n",
    "moon_data"
   ]
  },
  {
   "cell_type": "code",
   "execution_count": 83,
   "id": "f2c22ffd",
   "metadata": {},
   "outputs": [
    {
     "data": {
      "text/plain": [
       "phase\n",
       "first_quarter_moon     62\n",
       "full_moons             67\n",
       "new_moon               92\n",
       "third_quarter_moons    55\n",
       "Name: sightings, dtype: int64"
      ]
     },
     "execution_count": 83,
     "metadata": {},
     "output_type": "execute_result"
    }
   ],
   "source": [
    "count = moon_data.groupby(['phase'])['sightings'].sum()\n",
    "count"
   ]
  },
  {
   "cell_type": "markdown",
   "id": "e410ed92",
   "metadata": {},
   "source": [
    "chi-square test"
   ]
  },
  {
   "cell_type": "code",
   "execution_count": 81,
   "id": "2a90a67c",
   "metadata": {},
   "outputs": [
    {
     "name": "stdout",
     "output_type": "stream",
     "text": [
      "69.0\n"
     ]
    }
   ],
   "source": [
    "expected = count.sum() / 4\n",
    "print(expected)\n",
    "\n"
   ]
  },
  {
   "cell_type": "code",
   "execution_count": 82,
   "id": "9afbe8c8",
   "metadata": {},
   "outputs": [
    {
     "data": {
      "text/plain": [
       "11.27536231884058"
      ]
     },
     "execution_count": 82,
     "metadata": {},
     "output_type": "execute_result"
    }
   ],
   "source": [
    "x_2 = ((count[0]-expected)**2)/expected + ((count[1]-expected)**2)/expected + ((count[2]-expected)**2)/expected + ((count[3]-expected)**2)/expected\n",
    "\n",
    "x_2"
   ]
  },
  {
   "cell_type": "markdown",
   "id": "ae25d077",
   "metadata": {},
   "source": [
    "at significance level 0.025 this data is significantly different from what was expected. "
   ]
  },
  {
   "cell_type": "markdown",
   "id": "06b7a7ee",
   "metadata": {},
   "source": [
    "when counting all the ufo sightings that have taken place during primary moon phases, we can see that sightings are disproportionately more likely to occur during the new moon"
   ]
  },
  {
   "cell_type": "markdown",
   "id": "0949c2cd",
   "metadata": {},
   "source": [
    "### FINDING A CORRELATION BETWEEN METEORITE LANDINGS AND UFO SIGHTINGS"
   ]
  },
  {
   "cell_type": "code",
   "execution_count": 86,
   "id": "ee800132",
   "metadata": {},
   "outputs": [
    {
     "data": {
      "text/html": [
       "<div>\n",
       "<style scoped>\n",
       "    .dataframe tbody tr th:only-of-type {\n",
       "        vertical-align: middle;\n",
       "    }\n",
       "\n",
       "    .dataframe tbody tr th {\n",
       "        vertical-align: top;\n",
       "    }\n",
       "\n",
       "    .dataframe thead th {\n",
       "        text-align: right;\n",
       "    }\n",
       "</style>\n",
       "<table border=\"1\" class=\"dataframe\">\n",
       "  <thead>\n",
       "    <tr style=\"text-align: right;\">\n",
       "      <th></th>\n",
       "      <th>name</th>\n",
       "      <th>nametype</th>\n",
       "      <th>recclass</th>\n",
       "      <th>mass (g)</th>\n",
       "      <th>fall</th>\n",
       "      <th>year</th>\n",
       "      <th>reclat</th>\n",
       "      <th>reclong</th>\n",
       "      <th>GeoLocation</th>\n",
       "    </tr>\n",
       "  </thead>\n",
       "  <tbody>\n",
       "    <tr>\n",
       "      <th>0</th>\n",
       "      <td>Aachen</td>\n",
       "      <td>Valid</td>\n",
       "      <td>L5</td>\n",
       "      <td>21.0</td>\n",
       "      <td>Fell</td>\n",
       "      <td>01/01/1880 12:00:00 AM</td>\n",
       "      <td>50.77500</td>\n",
       "      <td>6.08333</td>\n",
       "      <td>(50.775000, 6.083330)</td>\n",
       "    </tr>\n",
       "    <tr>\n",
       "      <th>1</th>\n",
       "      <td>Aarhus</td>\n",
       "      <td>Valid</td>\n",
       "      <td>H6</td>\n",
       "      <td>720.0</td>\n",
       "      <td>Fell</td>\n",
       "      <td>01/01/1951 12:00:00 AM</td>\n",
       "      <td>56.18333</td>\n",
       "      <td>10.23333</td>\n",
       "      <td>(56.183330, 10.233330)</td>\n",
       "    </tr>\n",
       "    <tr>\n",
       "      <th>2</th>\n",
       "      <td>Abee</td>\n",
       "      <td>Valid</td>\n",
       "      <td>EH4</td>\n",
       "      <td>107000.0</td>\n",
       "      <td>Fell</td>\n",
       "      <td>01/01/1952 12:00:00 AM</td>\n",
       "      <td>54.21667</td>\n",
       "      <td>-113.00000</td>\n",
       "      <td>(54.216670, -113.000000)</td>\n",
       "    </tr>\n",
       "    <tr>\n",
       "      <th>3</th>\n",
       "      <td>Acapulco</td>\n",
       "      <td>Valid</td>\n",
       "      <td>Acapulcoite</td>\n",
       "      <td>1914.0</td>\n",
       "      <td>Fell</td>\n",
       "      <td>01/01/1976 12:00:00 AM</td>\n",
       "      <td>16.88333</td>\n",
       "      <td>-99.90000</td>\n",
       "      <td>(16.883330, -99.900000)</td>\n",
       "    </tr>\n",
       "    <tr>\n",
       "      <th>4</th>\n",
       "      <td>Achiras</td>\n",
       "      <td>Valid</td>\n",
       "      <td>L6</td>\n",
       "      <td>780.0</td>\n",
       "      <td>Fell</td>\n",
       "      <td>01/01/1902 12:00:00 AM</td>\n",
       "      <td>-33.16667</td>\n",
       "      <td>-64.95000</td>\n",
       "      <td>(-33.166670, -64.950000)</td>\n",
       "    </tr>\n",
       "    <tr>\n",
       "      <th>...</th>\n",
       "      <td>...</td>\n",
       "      <td>...</td>\n",
       "      <td>...</td>\n",
       "      <td>...</td>\n",
       "      <td>...</td>\n",
       "      <td>...</td>\n",
       "      <td>...</td>\n",
       "      <td>...</td>\n",
       "      <td>...</td>\n",
       "    </tr>\n",
       "    <tr>\n",
       "      <th>2823</th>\n",
       "      <td>Zillah 002</td>\n",
       "      <td>Valid</td>\n",
       "      <td>Eucrite</td>\n",
       "      <td>172.0</td>\n",
       "      <td>Found</td>\n",
       "      <td>01/01/1990 12:00:00 AM</td>\n",
       "      <td>29.03700</td>\n",
       "      <td>17.01850</td>\n",
       "      <td>(29.037000, 17.018500)</td>\n",
       "    </tr>\n",
       "    <tr>\n",
       "      <th>2824</th>\n",
       "      <td>Zinder</td>\n",
       "      <td>Valid</td>\n",
       "      <td>Pallasite, ungrouped</td>\n",
       "      <td>46.0</td>\n",
       "      <td>Found</td>\n",
       "      <td>01/01/1999 12:00:00 AM</td>\n",
       "      <td>13.78333</td>\n",
       "      <td>8.96667</td>\n",
       "      <td>(13.783330, 8.966670)</td>\n",
       "    </tr>\n",
       "    <tr>\n",
       "      <th>2825</th>\n",
       "      <td>Zlin</td>\n",
       "      <td>Valid</td>\n",
       "      <td>H4</td>\n",
       "      <td>3.3</td>\n",
       "      <td>Found</td>\n",
       "      <td>01/01/1939 12:00:00 AM</td>\n",
       "      <td>49.25000</td>\n",
       "      <td>17.66667</td>\n",
       "      <td>(49.250000, 17.666670)</td>\n",
       "    </tr>\n",
       "    <tr>\n",
       "      <th>2826</th>\n",
       "      <td>Zubkovsky</td>\n",
       "      <td>Valid</td>\n",
       "      <td>L6</td>\n",
       "      <td>2167.0</td>\n",
       "      <td>Found</td>\n",
       "      <td>01/01/2003 12:00:00 AM</td>\n",
       "      <td>49.78917</td>\n",
       "      <td>41.50460</td>\n",
       "      <td>(49.789170, 41.504600)</td>\n",
       "    </tr>\n",
       "    <tr>\n",
       "      <th>2827</th>\n",
       "      <td>Zulu Queen</td>\n",
       "      <td>Valid</td>\n",
       "      <td>L3.7</td>\n",
       "      <td>200.0</td>\n",
       "      <td>Found</td>\n",
       "      <td>01/01/1976 12:00:00 AM</td>\n",
       "      <td>33.98333</td>\n",
       "      <td>-115.68333</td>\n",
       "      <td>(33.983330, -115.683330)</td>\n",
       "    </tr>\n",
       "  </tbody>\n",
       "</table>\n",
       "<p>2828 rows × 9 columns</p>\n",
       "</div>"
      ],
      "text/plain": [
       "            name nametype              recclass  mass (g)   fall  \\\n",
       "0         Aachen    Valid                    L5      21.0   Fell   \n",
       "1         Aarhus    Valid                    H6     720.0   Fell   \n",
       "2           Abee    Valid                   EH4  107000.0   Fell   \n",
       "3       Acapulco    Valid           Acapulcoite    1914.0   Fell   \n",
       "4        Achiras    Valid                    L6     780.0   Fell   \n",
       "...          ...      ...                   ...       ...    ...   \n",
       "2823  Zillah 002    Valid               Eucrite     172.0  Found   \n",
       "2824      Zinder    Valid  Pallasite, ungrouped      46.0  Found   \n",
       "2825        Zlin    Valid                    H4       3.3  Found   \n",
       "2826   Zubkovsky    Valid                    L6    2167.0  Found   \n",
       "2827  Zulu Queen    Valid                  L3.7     200.0  Found   \n",
       "\n",
       "                        year    reclat    reclong               GeoLocation  \n",
       "0     01/01/1880 12:00:00 AM  50.77500    6.08333     (50.775000, 6.083330)  \n",
       "1     01/01/1951 12:00:00 AM  56.18333   10.23333    (56.183330, 10.233330)  \n",
       "2     01/01/1952 12:00:00 AM  54.21667 -113.00000  (54.216670, -113.000000)  \n",
       "3     01/01/1976 12:00:00 AM  16.88333  -99.90000   (16.883330, -99.900000)  \n",
       "4     01/01/1902 12:00:00 AM -33.16667  -64.95000  (-33.166670, -64.950000)  \n",
       "...                      ...       ...        ...                       ...  \n",
       "2823  01/01/1990 12:00:00 AM  29.03700   17.01850    (29.037000, 17.018500)  \n",
       "2824  01/01/1999 12:00:00 AM  13.78333    8.96667     (13.783330, 8.966670)  \n",
       "2825  01/01/1939 12:00:00 AM  49.25000   17.66667    (49.250000, 17.666670)  \n",
       "2826  01/01/2003 12:00:00 AM  49.78917   41.50460    (49.789170, 41.504600)  \n",
       "2827  01/01/1976 12:00:00 AM  33.98333 -115.68333  (33.983330, -115.683330)  \n",
       "\n",
       "[2828 rows x 9 columns]"
      ]
     },
     "execution_count": 86,
     "metadata": {},
     "output_type": "execute_result"
    }
   ],
   "source": [
    "meteorite_data"
   ]
  },
  {
   "cell_type": "code",
   "execution_count": 104,
   "id": "2dc25b0b",
   "metadata": {},
   "outputs": [
    {
     "data": {
      "text/html": [
       "<div>\n",
       "<style scoped>\n",
       "    .dataframe tbody tr th:only-of-type {\n",
       "        vertical-align: middle;\n",
       "    }\n",
       "\n",
       "    .dataframe tbody tr th {\n",
       "        vertical-align: top;\n",
       "    }\n",
       "\n",
       "    .dataframe thead th {\n",
       "        text-align: right;\n",
       "    }\n",
       "</style>\n",
       "<table border=\"1\" class=\"dataframe\">\n",
       "  <thead>\n",
       "    <tr style=\"text-align: right;\">\n",
       "      <th></th>\n",
       "      <th>name</th>\n",
       "      <th>nametype</th>\n",
       "      <th>recclass</th>\n",
       "      <th>mass (g)</th>\n",
       "      <th>fall</th>\n",
       "      <th>year</th>\n",
       "      <th>reclat</th>\n",
       "      <th>reclong</th>\n",
       "      <th>longitude</th>\n",
       "      <th>latitude</th>\n",
       "    </tr>\n",
       "  </thead>\n",
       "  <tbody>\n",
       "    <tr>\n",
       "      <th>0</th>\n",
       "      <td>Aachen</td>\n",
       "      <td>Valid</td>\n",
       "      <td>L5</td>\n",
       "      <td>21.0</td>\n",
       "      <td>Fell</td>\n",
       "      <td>01/01/1880 12:00:00 AM</td>\n",
       "      <td>50.77500</td>\n",
       "      <td>6.08333</td>\n",
       "      <td>50.775000</td>\n",
       "      <td>6.08333</td>\n",
       "    </tr>\n",
       "    <tr>\n",
       "      <th>1</th>\n",
       "      <td>Aarhus</td>\n",
       "      <td>Valid</td>\n",
       "      <td>H6</td>\n",
       "      <td>720.0</td>\n",
       "      <td>Fell</td>\n",
       "      <td>01/01/1951 12:00:00 AM</td>\n",
       "      <td>56.18333</td>\n",
       "      <td>10.23333</td>\n",
       "      <td>56.183330</td>\n",
       "      <td>10.23333</td>\n",
       "    </tr>\n",
       "    <tr>\n",
       "      <th>2</th>\n",
       "      <td>Abee</td>\n",
       "      <td>Valid</td>\n",
       "      <td>EH4</td>\n",
       "      <td>107000.0</td>\n",
       "      <td>Fell</td>\n",
       "      <td>01/01/1952 12:00:00 AM</td>\n",
       "      <td>54.21667</td>\n",
       "      <td>-113.00000</td>\n",
       "      <td>54.216670</td>\n",
       "      <td>-113.00000</td>\n",
       "    </tr>\n",
       "    <tr>\n",
       "      <th>3</th>\n",
       "      <td>Acapulco</td>\n",
       "      <td>Valid</td>\n",
       "      <td>Acapulcoite</td>\n",
       "      <td>1914.0</td>\n",
       "      <td>Fell</td>\n",
       "      <td>01/01/1976 12:00:00 AM</td>\n",
       "      <td>16.88333</td>\n",
       "      <td>-99.90000</td>\n",
       "      <td>16.883330</td>\n",
       "      <td>-99.90000</td>\n",
       "    </tr>\n",
       "    <tr>\n",
       "      <th>4</th>\n",
       "      <td>Achiras</td>\n",
       "      <td>Valid</td>\n",
       "      <td>L6</td>\n",
       "      <td>780.0</td>\n",
       "      <td>Fell</td>\n",
       "      <td>01/01/1902 12:00:00 AM</td>\n",
       "      <td>-33.16667</td>\n",
       "      <td>-64.95000</td>\n",
       "      <td>-33.166670</td>\n",
       "      <td>-64.95000</td>\n",
       "    </tr>\n",
       "    <tr>\n",
       "      <th>...</th>\n",
       "      <td>...</td>\n",
       "      <td>...</td>\n",
       "      <td>...</td>\n",
       "      <td>...</td>\n",
       "      <td>...</td>\n",
       "      <td>...</td>\n",
       "      <td>...</td>\n",
       "      <td>...</td>\n",
       "      <td>...</td>\n",
       "      <td>...</td>\n",
       "    </tr>\n",
       "    <tr>\n",
       "      <th>2823</th>\n",
       "      <td>Zillah 002</td>\n",
       "      <td>Valid</td>\n",
       "      <td>Eucrite</td>\n",
       "      <td>172.0</td>\n",
       "      <td>Found</td>\n",
       "      <td>01/01/1990 12:00:00 AM</td>\n",
       "      <td>29.03700</td>\n",
       "      <td>17.01850</td>\n",
       "      <td>29.037000</td>\n",
       "      <td>17.01850</td>\n",
       "    </tr>\n",
       "    <tr>\n",
       "      <th>2824</th>\n",
       "      <td>Zinder</td>\n",
       "      <td>Valid</td>\n",
       "      <td>Pallasite, ungrouped</td>\n",
       "      <td>46.0</td>\n",
       "      <td>Found</td>\n",
       "      <td>01/01/1999 12:00:00 AM</td>\n",
       "      <td>13.78333</td>\n",
       "      <td>8.96667</td>\n",
       "      <td>13.783330</td>\n",
       "      <td>8.96667</td>\n",
       "    </tr>\n",
       "    <tr>\n",
       "      <th>2825</th>\n",
       "      <td>Zlin</td>\n",
       "      <td>Valid</td>\n",
       "      <td>H4</td>\n",
       "      <td>3.3</td>\n",
       "      <td>Found</td>\n",
       "      <td>01/01/1939 12:00:00 AM</td>\n",
       "      <td>49.25000</td>\n",
       "      <td>17.66667</td>\n",
       "      <td>49.250000</td>\n",
       "      <td>17.66667</td>\n",
       "    </tr>\n",
       "    <tr>\n",
       "      <th>2826</th>\n",
       "      <td>Zubkovsky</td>\n",
       "      <td>Valid</td>\n",
       "      <td>L6</td>\n",
       "      <td>2167.0</td>\n",
       "      <td>Found</td>\n",
       "      <td>01/01/2003 12:00:00 AM</td>\n",
       "      <td>49.78917</td>\n",
       "      <td>41.50460</td>\n",
       "      <td>49.789170</td>\n",
       "      <td>41.50460</td>\n",
       "    </tr>\n",
       "    <tr>\n",
       "      <th>2827</th>\n",
       "      <td>Zulu Queen</td>\n",
       "      <td>Valid</td>\n",
       "      <td>L3.7</td>\n",
       "      <td>200.0</td>\n",
       "      <td>Found</td>\n",
       "      <td>01/01/1976 12:00:00 AM</td>\n",
       "      <td>33.98333</td>\n",
       "      <td>-115.68333</td>\n",
       "      <td>33.983330</td>\n",
       "      <td>-115.68333</td>\n",
       "    </tr>\n",
       "  </tbody>\n",
       "</table>\n",
       "<p>2828 rows × 10 columns</p>\n",
       "</div>"
      ],
      "text/plain": [
       "            name nametype              recclass  mass (g)   fall  \\\n",
       "0         Aachen    Valid                    L5      21.0   Fell   \n",
       "1         Aarhus    Valid                    H6     720.0   Fell   \n",
       "2           Abee    Valid                   EH4  107000.0   Fell   \n",
       "3       Acapulco    Valid           Acapulcoite    1914.0   Fell   \n",
       "4        Achiras    Valid                    L6     780.0   Fell   \n",
       "...          ...      ...                   ...       ...    ...   \n",
       "2823  Zillah 002    Valid               Eucrite     172.0  Found   \n",
       "2824      Zinder    Valid  Pallasite, ungrouped      46.0  Found   \n",
       "2825        Zlin    Valid                    H4       3.3  Found   \n",
       "2826   Zubkovsky    Valid                    L6    2167.0  Found   \n",
       "2827  Zulu Queen    Valid                  L3.7     200.0  Found   \n",
       "\n",
       "                        year    reclat    reclong   longitude    latitude  \n",
       "0     01/01/1880 12:00:00 AM  50.77500    6.08333   50.775000     6.08333  \n",
       "1     01/01/1951 12:00:00 AM  56.18333   10.23333   56.183330    10.23333  \n",
       "2     01/01/1952 12:00:00 AM  54.21667 -113.00000   54.216670  -113.00000  \n",
       "3     01/01/1976 12:00:00 AM  16.88333  -99.90000   16.883330   -99.90000  \n",
       "4     01/01/1902 12:00:00 AM -33.16667  -64.95000  -33.166670   -64.95000  \n",
       "...                      ...       ...        ...         ...         ...  \n",
       "2823  01/01/1990 12:00:00 AM  29.03700   17.01850   29.037000    17.01850  \n",
       "2824  01/01/1999 12:00:00 AM  13.78333    8.96667   13.783330     8.96667  \n",
       "2825  01/01/1939 12:00:00 AM  49.25000   17.66667   49.250000    17.66667  \n",
       "2826  01/01/2003 12:00:00 AM  49.78917   41.50460   49.789170    41.50460  \n",
       "2827  01/01/1976 12:00:00 AM  33.98333 -115.68333   33.983330  -115.68333  \n",
       "\n",
       "[2828 rows x 10 columns]"
      ]
     },
     "execution_count": 104,
     "metadata": {},
     "output_type": "execute_result"
    }
   ],
   "source": [
    "meteorite_data['longitude'] = meteorite_data['GeoLocation'].str.split(', ').str[0].str[1:]\n",
    "meteorite_data['latitude'] = meteorite_data['GeoLocation'].str.split(', ').str[1].str[:-2]\n",
    "meteorite_data.drop(['GeoLocation'], axis= 1)\n"
   ]
  }
 ],
 "metadata": {
  "kernelspec": {
   "display_name": "Python 3 (ipykernel)",
   "language": "python",
   "name": "python3"
  },
  "language_info": {
   "codemirror_mode": {
    "name": "ipython",
    "version": 3
   },
   "file_extension": ".py",
   "mimetype": "text/x-python",
   "name": "python",
   "nbconvert_exporter": "python",
   "pygments_lexer": "ipython3",
   "version": "3.9.12"
  }
 },
 "nbformat": 4,
 "nbformat_minor": 5
}
