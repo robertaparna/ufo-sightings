{
 "cells": [
  {
   "cell_type": "code",
   "execution_count": 1,
   "id": "6a369c16",
   "metadata": {},
   "outputs": [],
   "source": [
    "import pandas as pd"
   ]
  },
  {
   "cell_type": "markdown",
   "id": "100a9bf8",
   "metadata": {},
   "source": [
    "importing data"
   ]
  },
  {
   "cell_type": "code",
   "execution_count": 2,
   "id": "9aca424b",
   "metadata": {},
   "outputs": [
    {
     "name": "stderr",
     "output_type": "stream",
     "text": [
      "C:\\Users\\robertaparna\\AppData\\Local\\Temp\\ipykernel_14984\\692714877.py:1: DtypeWarning: Columns (5,9) have mixed types. Specify dtype option on import or set low_memory=False.\n",
      "  ufo_data = pd.read_csv(\"ufo_sighting_data.csv\")\n"
     ]
    }
   ],
   "source": [
    "ufo_data = pd.read_csv(\"ufo_sighting_data.csv\")\n",
    "moon_data_raw = pd.read_html(\"lunar_calendar.html\")\n",
    "meteorite_data = pd.read_csv(\"meteorite_data.csv\")"
   ]
  },
  {
   "cell_type": "markdown",
   "id": "a0fe658b",
   "metadata": {},
   "source": [
    "### CREATING A MODEL FOR PREDICTING UFO SHAPE"
   ]
  },
  {
   "cell_type": "code",
   "execution_count": 3,
   "id": "d23b8426",
   "metadata": {},
   "outputs": [],
   "source": [
    "#disregarding colums that won't be useful\n",
    "ufo_data_clone_2 = ufo_data.copy()\n",
    "ufo_data = ufo_data.drop(['described_duration_of_encounter', 'description', 'city', 'state/province', 'latitude', 'longitude'], axis=1)\n",
    "ufo_data = ufo_data.dropna()\n",
    "\n",
    "#changing invalid values\n",
    "ufo_data['Date_time'] = ufo_data['Date_time'].str.replace('24:','00:')\n",
    "ufo_data['length_of_encounter_seconds'] = ufo_data['length_of_encounter_seconds'].str.replace('`', '')\n",
    "#ufo_data['latitude'] = ufo_data['latitude'].str.replace('q', '')\n",
    "\n",
    "ufo_data = pd.get_dummies(ufo_data, columns=['country'])\n",
    "\n",
    "ufo_data_clone = ufo_data.copy()"
   ]
  },
  {
   "cell_type": "code",
   "execution_count": 4,
   "id": "40c33da0",
   "metadata": {},
   "outputs": [],
   "source": [
    "#balancing\n",
    "shapes_value_counts = ufo_data['UFO_shape'].value_counts()\n",
    "\n",
    "shapes = ufo_data['UFO_shape'].unique()\n",
    "samples = []\n",
    "\n",
    "for shape in shapes:\n",
    "\n",
    "    if (shapes_value_counts[shape] > 1177):\n",
    "        samples.append(ufo_data[ufo_data['UFO_shape'] == shape].sample(1177))\n",
    "        \n",
    "ufo_data = pd.concat(samples)\n"
   ]
  },
  {
   "cell_type": "code",
   "execution_count": 5,
   "id": "67c02af6",
   "metadata": {},
   "outputs": [],
   "source": [
    "#preparing\n",
    "ufo_data['Date_time'] = pd.to_datetime(ufo_data['Date_time'])\n",
    "\n",
    "ufo_data['date_documented'] = pd.to_datetime(ufo_data['date_documented'])\n",
    "ufo_data['UFO_shape'] = ufo_data['UFO_shape'].astype('category')\n",
    "ufo_data['UFO_shape_cat'] = ufo_data['UFO_shape'].cat.codes\n",
    "categories = dict(enumerate(ufo_data['UFO_shape'].cat.categories))\n",
    "ufo_data = ufo_data.drop(['UFO_shape'], axis=1)"
   ]
  },
  {
   "cell_type": "code",
   "execution_count": 6,
   "id": "7c2e31b9",
   "metadata": {},
   "outputs": [],
   "source": [
    "#model is more accurate without\n",
    "\n",
    "#ufo_data['incident_year'] = ufo_data['Date_time'].dt.year\n",
    "#ufo_data['incident_month'] = ufo_data['Date_time'].dt.month\n",
    "#ufo_data['incident_day'] = ufo_data['Date_time'].dt.dayofweek\n",
    "ufo_data['incident_hour'] = ufo_data['Date_time'].dt.hour\n",
    "ufo_data['incident_minute'] = ufo_data['Date_time'].dt.minute\n",
    "\n",
    "#feels like an unnececcary  feature and the model is more accurate without\n",
    "\n",
    "#ufo_data['documentation_year'] = ufo_data['date_documented'].dt.year\n",
    "#ufo_data['documentation_month'] = ufo_data['date_documented'].dt.month\n",
    "#ufo_data['documentation_day'] = ufo_data['date_documented'].dt.day\n",
    "\n",
    "ufo_data = ufo_data.drop(['Date_time', 'date_documented'], axis=1)\n",
    "ufo_data = ufo_data.dropna()"
   ]
  },
  {
   "cell_type": "code",
   "execution_count": 7,
   "id": "3bd43926",
   "metadata": {},
   "outputs": [],
   "source": [
    "from sklearn.model_selection import train_test_split\n",
    "\n",
    "#splitting into features and labels\n",
    "ufo_data_X = ufo_data.drop(['UFO_shape_cat'], axis=1)\n",
    "ufo_data_y = ufo_data['UFO_shape_cat']\n",
    "\n",
    "X_train, X_test, y_train, y_test = train_test_split(ufo_data_X, ufo_data_y, test_size = 0.1)"
   ]
  },
  {
   "cell_type": "code",
   "execution_count": 8,
   "id": "e2cec498",
   "metadata": {},
   "outputs": [],
   "source": [
    "from sklearn.tree import DecisionTreeClassifier\n",
    "\n",
    "#training a model\n",
    "\n",
    "model1 = DecisionTreeClassifier(criterion='entropy', max_depth = 4, random_state=5).fit(X_train, y_train)"
   ]
  },
  {
   "cell_type": "code",
   "execution_count": 9,
   "id": "92a09db3",
   "metadata": {},
   "outputs": [
    {
     "data": {
      "text/plain": [
       "array([[37,  8,  0,  0,  2, 14,  0,  0,  0,  0, 19,  9],\n",
       "       [15, 34,  0,  0,  8,  9,  0,  0,  0,  0, 20,  7],\n",
       "       [28, 17,  0,  0, 12, 32,  0,  0,  0,  0, 18, 10],\n",
       "       [16, 26,  0,  0,  4, 11,  0,  0,  0,  0, 17,  8],\n",
       "       [13, 13,  0,  0, 18, 32,  0,  0,  0,  0, 25,  5],\n",
       "       [15,  9,  0,  0,  3, 31,  0,  0,  0,  0, 15, 15],\n",
       "       [19,  5,  0,  0,  9, 26,  0,  0,  0,  0, 11, 15],\n",
       "       [19, 12,  0,  0,  8, 19,  0,  0,  0,  0, 15, 15],\n",
       "       [16, 15,  0,  0,  7, 24,  0,  0,  0,  0, 14, 13],\n",
       "       [12, 17,  0,  0,  9, 20,  0,  0,  0,  0, 19, 10],\n",
       "       [31,  2,  0,  0,  3, 29,  0,  0,  0,  0, 30, 20],\n",
       "       [28, 12,  0,  0,  8, 30,  0,  0,  0,  0, 20, 16]], dtype=int64)"
      ]
     },
     "execution_count": 9,
     "metadata": {},
     "output_type": "execute_result"
    }
   ],
   "source": [
    "from sklearn.metrics import accuracy_score, confusion_matrix, matthews_corrcoef, cohen_kappa_score\n",
    "\n",
    "#getting the predictions and using different metrics to evaluate the model\n",
    "\n",
    "predictions = model1.predict(X_test)\n",
    "confusion_matrix(y_test, predictions)"
   ]
  },
  {
   "cell_type": "code",
   "execution_count": 10,
   "id": "49c76b21",
   "metadata": {},
   "outputs": [
    {
     "data": {
      "text/plain": [
       "0.14397224631396358"
      ]
     },
     "execution_count": 10,
     "metadata": {},
     "output_type": "execute_result"
    }
   ],
   "source": [
    "accuracy_score(y_test, predictions)"
   ]
  },
  {
   "cell_type": "code",
   "execution_count": 11,
   "id": "cb8f3917",
   "metadata": {},
   "outputs": [
    {
     "data": {
      "text/plain": [
       "0.0674659073715736"
      ]
     },
     "execution_count": 11,
     "metadata": {},
     "output_type": "execute_result"
    }
   ],
   "source": [
    "matthews_corrcoef(y_test, predictions)"
   ]
  },
  {
   "cell_type": "code",
   "execution_count": 12,
   "id": "cdc6eb0b",
   "metadata": {},
   "outputs": [
    {
     "data": {
      "text/plain": [
       "0.06372684124399708"
      ]
     },
     "execution_count": 12,
     "metadata": {},
     "output_type": "execute_result"
    }
   ],
   "source": [
    "cohen_kappa_score(y_test, predictions)"
   ]
  },
  {
   "cell_type": "markdown",
   "id": "e23307c0",
   "metadata": {},
   "source": [
    "there are 16 classes in the train-test set, so random guessing would have 0.0625% accuracy. the accuracy score shows that this model can predict twice as accurately. the other metrics are not as optimistic, while they show that this model is slightly better than random guessing, it is still not very good."
   ]
  },
  {
   "cell_type": "markdown",
   "id": "5383ce14",
   "metadata": {},
   "source": [
    "### CREATING A MODEL FOR PREDICTING DURATION"
   ]
  },
  {
   "cell_type": "code",
   "execution_count": 13,
   "id": "707c7d8e",
   "metadata": {},
   "outputs": [],
   "source": [
    "#preparing again\n",
    "ufo_data= ufo_data_clone\n",
    "\n",
    "ufo_data['Date_time'] = pd.to_datetime(ufo_data['Date_time'])\n",
    "\n",
    "ufo_data['date_documented'] = pd.to_datetime(ufo_data['date_documented'])\n",
    "ufo_data = pd.get_dummies(ufo_data, columns=['UFO_shape'])\n",
    "\n",
    "ufo_data['incident_hour'] = ufo_data['Date_time'].dt.hour\n",
    "ufo_data['incident_minute'] = ufo_data['Date_time'].dt.minute\n",
    "#ufo_data['incident_year'] = ufo_data['Date_time'].dt.year\n",
    "#ufo_data['incident_month'] = ufo_data['Date_time'].dt.month\n",
    "#ufo_data['incident_day'] = ufo_data['Date_time'].dt.dayofweek\n",
    "\n",
    "ufo_data = ufo_data.drop(['Date_time', 'date_documented'], axis=1)\n",
    "ufo_data = ufo_data.dropna()\n",
    "\n",
    "ufo_data_X = ufo_data.drop(['length_of_encounter_seconds'], axis=1)\n",
    "ufo_data_y = ufo_data['length_of_encounter_seconds']\n",
    "\n",
    "X_train, X_test, y_train, y_test = train_test_split(ufo_data_X, ufo_data_y, test_size = 0.1)"
   ]
  },
  {
   "cell_type": "code",
   "execution_count": 14,
   "id": "b46325bb",
   "metadata": {},
   "outputs": [
    {
     "data": {
      "image/png": "[encoded data removed]",
      "text/plain": [
       "<Figure size 432x288 with 1 Axes>"
      ]
     },
     "metadata": {},
     "output_type": "display_data"
    }
   ],
   "source": [
    "import seaborn as sns\n",
    "import matplotlib.pyplot as plt\n",
    "ufo_data = ufo_data.dropna()\n",
    "sns.set(style='darkgrid')\n",
    "\n",
    "sns.histplot(data=ufo_data, x='length_of_encounter_seconds', kde=True)\n",
    "plt.show()"
   ]
  },
  {
   "cell_type": "code",
   "execution_count": 15,
   "id": "f20ddde9",
   "metadata": {},
   "outputs": [],
   "source": [
    "from scipy import stats\n",
    "#trying to balance the training data\n",
    "\n",
    "y_train_balanced, _lambda = stats.boxcox(y_train.astype('float'))"
   ]
  },
  {
   "cell_type": "code",
   "execution_count": 16,
   "id": "09a65e46",
   "metadata": {},
   "outputs": [],
   "source": [
    "from sklearn.linear_model import LinearRegression\n",
    "from sklearn.metrics import r2_score\n",
    "\n",
    "model2 = LinearRegression().fit(X_train, y_train_balanced)"
   ]
  },
  {
   "cell_type": "code",
   "execution_count": 17,
   "id": "c213ea70",
   "metadata": {},
   "outputs": [],
   "source": [
    "\n",
    "predictions = model2.predict(X_test)"
   ]
  },
  {
   "cell_type": "code",
   "execution_count": 18,
   "id": "ba18ff45",
   "metadata": {},
   "outputs": [
    {
     "data": {
      "text/plain": [
       "-28195246.60536409"
      ]
     },
     "execution_count": 18,
     "metadata": {},
     "output_type": "execute_result"
    }
   ],
   "source": [
    "r2_score(y_test, predictions)"
   ]
  },
  {
   "cell_type": "code",
   "execution_count": 19,
   "id": "9993948c",
   "metadata": {},
   "outputs": [
    {
     "data": {
      "text/plain": [
       "7881128.276705277"
      ]
     },
     "execution_count": 19,
     "metadata": {},
     "output_type": "execute_result"
    }
   ],
   "source": [
    "from sklearn.metrics import mean_absolute_error, mean_squared_error\n",
    "mean_absolute_error(y_test, predictions)"
   ]
  },
  {
   "cell_type": "code",
   "execution_count": 20,
   "id": "08c4fe01",
   "metadata": {},
   "outputs": [
    {
     "data": {
      "text/plain": [
       "3.4899513582975725e+17"
      ]
     },
     "execution_count": 20,
     "metadata": {},
     "output_type": "execute_result"
    }
   ],
   "source": [
    "mean_squared_error(y_test, predictions)"
   ]
  },
  {
   "cell_type": "markdown",
   "id": "20f9aff6",
   "metadata": {},
   "source": [
    "all the metrics show that this model is not very accurate at all no matter what features we try to use, which suggests that the duration of encounters cannot be predicted from time and location"
   ]
  },
  {
   "cell_type": "markdown",
   "id": "9659b357",
   "metadata": {},
   "source": [
    "### FINDING A CORRELATION BETWEEN SIGHTINGS AND MOON PHASES\n"
   ]
  },
  {
   "cell_type": "code",
   "execution_count": 21,
   "id": "656102d4",
   "metadata": {},
   "outputs": [],
   "source": [
    "ufo_data = ufo_data_clone\n"
   ]
  },
  {
   "cell_type": "code",
   "execution_count": 48,
   "id": "d07ff0ce",
   "metadata": {},
   "outputs": [
    {
     "name": "stderr",
     "output_type": "stream",
     "text": [
      "C:\\Users\\robertaparna\\AppData\\Local\\Temp\\ipykernel_14984\\3683854053.py:14: UserWarning: Parsing '31/12/2013' in DD/MM/YYYY format. Provide format or specify infer_datetime_format=True for consistent parsing.\n",
      "  moon_data = moon_data[moon_data['full_moons'] <= pd.to_datetime('31/12/2013')]\n"
     ]
    }
   ],
   "source": [
    "#making a usable dataframe\n",
    "moon_data = moon_data_raw[0]\n",
    "moon_data = moon_data.drop(['Unnamed: 0'], axis= 1)\n",
    "moon_data = moon_data.rename(columns = {'Unnamed: 1' : 'new_moons', 'Unnamed: 2' : 'first_quarter_moon', 'Unnamed: 3' : 'full_moons', 'Unnamed: 4' : 'third_quarter_moons'})\n",
    "moon_data = moon_data.drop([0, 1])\n",
    "moon_data\n",
    "\n",
    "#disregarding data with dates out ouf sightings data scope\n",
    "moon_data['full_moons'] = pd.to_datetime(moon_data['full_moons'])\n",
    "moon_data['new_moons'] = pd.to_datetime(moon_data['new_moons'])\n",
    "moon_data['first_quarter_moon'] = pd.to_datetime(moon_data['first_quarter_moon'])\n",
    "moon_data['third_quarter_moons'] = pd.to_datetime(moon_data['third_quarter_moons'])\n",
    "moon_data = moon_data[moon_data['full_moons'] >= pd.to_datetime(\"10/10/1949\") ]\n",
    "moon_data = moon_data[moon_data['full_moons'] <= pd.to_datetime('31/12/2013')]\n",
    "\n",
    "moon_data  \n",
    "\n",
    "moon_data1 = pd.DataFrame()\n",
    "moon_data2 = pd.DataFrame()\n",
    "moon_data3 = pd.DataFrame()\n",
    "moon_data4 = pd.DataFrame()\n",
    "\n",
    "moon_data1['date'], moon_data1['phase'] = [moon_data[\"new_moons\"], 'new_moon']\n",
    "moon_data2['date'], moon_data2['phase'] = [moon_data[\"full_moons\"], 'full_moons']\n",
    "moon_data3['date'], moon_data3['phase'] = [moon_data[\"first_quarter_moon\"], 'first_quarter_moon']\n",
    "moon_data4['date'], moon_data4['phase'] = [moon_data[\"third_quarter_moons\"], 'third_quarter_moons']\n",
    "\n",
    "moon_data = pd.concat([moon_data1, moon_data2, moon_data3, moon_data4])\n",
    "moon_data = moon_data.sort_values(by = ['date'])\n",
    "\n",
    "moon_data['date'] = pd.to_datetime(moon_data['date'])\n",
    "\n",
    "ufo_data['Date_time'] = pd.to_datetime(ufo_data['Date_time'])\n",
    "ufo_data['year'] = ufo_data['Date_time'].dt.year\n",
    "ufo_data['month'] = ufo_data['Date_time'].dt.month\n",
    "ufo_data['day'] = ufo_data['Date_time'].dt.day"
   ]
  },
  {
   "cell_type": "code",
   "execution_count": 23,
   "id": "789fbaff",
   "metadata": {},
   "outputs": [
    {
     "data": {
      "text/html": [
       "<div>\n",
       "<style scoped>\n",
       "    .dataframe tbody tr th:only-of-type {\n",
       "        vertical-align: middle;\n",
       "    }\n",
       "\n",
       "    .dataframe tbody tr th {\n",
       "        vertical-align: top;\n",
       "    }\n",
       "\n",
       "    .dataframe thead th {\n",
       "        text-align: right;\n",
       "    }\n",
       "</style>\n",
       "<table border=\"1\" class=\"dataframe\">\n",
       "  <thead>\n",
       "    <tr style=\"text-align: right;\">\n",
       "      <th></th>\n",
       "      <th>date</th>\n",
       "      <th>phase</th>\n",
       "    </tr>\n",
       "  </thead>\n",
       "  <tbody>\n",
       "    <tr>\n",
       "      <th>623</th>\n",
       "      <td>1949-11-05</td>\n",
       "      <td>full_moons</td>\n",
       "    </tr>\n",
       "    <tr>\n",
       "      <th>624</th>\n",
       "      <td>1949-12-05</td>\n",
       "      <td>full_moons</td>\n",
       "    </tr>\n",
       "    <tr>\n",
       "      <th>625</th>\n",
       "      <td>1950-01-03</td>\n",
       "      <td>full_moons</td>\n",
       "    </tr>\n",
       "    <tr>\n",
       "      <th>623</th>\n",
       "      <td>1950-01-18</td>\n",
       "      <td>new_moon</td>\n",
       "    </tr>\n",
       "    <tr>\n",
       "      <th>623</th>\n",
       "      <td>1950-01-25</td>\n",
       "      <td>first_quarter_moon</td>\n",
       "    </tr>\n",
       "    <tr>\n",
       "      <th>...</th>\n",
       "      <td>...</td>\n",
       "      <td>...</td>\n",
       "    </tr>\n",
       "    <tr>\n",
       "      <th>1415</th>\n",
       "      <td>2014-02-06</td>\n",
       "      <td>first_quarter_moon</td>\n",
       "    </tr>\n",
       "    <tr>\n",
       "      <th>1416</th>\n",
       "      <td>2014-02-22</td>\n",
       "      <td>third_quarter_moons</td>\n",
       "    </tr>\n",
       "    <tr>\n",
       "      <th>1415</th>\n",
       "      <td>2014-03-01</td>\n",
       "      <td>new_moon</td>\n",
       "    </tr>\n",
       "    <tr>\n",
       "      <th>1416</th>\n",
       "      <td>2014-03-08</td>\n",
       "      <td>first_quarter_moon</td>\n",
       "    </tr>\n",
       "    <tr>\n",
       "      <th>1416</th>\n",
       "      <td>2014-03-30</td>\n",
       "      <td>new_moon</td>\n",
       "    </tr>\n",
       "  </tbody>\n",
       "</table>\n",
       "<p>3176 rows × 2 columns</p>\n",
       "</div>"
      ],
      "text/plain": [
       "           date                phase\n",
       "623  1949-11-05           full_moons\n",
       "624  1949-12-05           full_moons\n",
       "625  1950-01-03           full_moons\n",
       "623  1950-01-18             new_moon\n",
       "623  1950-01-25   first_quarter_moon\n",
       "...         ...                  ...\n",
       "1415 2014-02-06   first_quarter_moon\n",
       "1416 2014-02-22  third_quarter_moons\n",
       "1415 2014-03-01             new_moon\n",
       "1416 2014-03-08   first_quarter_moon\n",
       "1416 2014-03-30             new_moon\n",
       "\n",
       "[3176 rows x 2 columns]"
      ]
     },
     "execution_count": 23,
     "metadata": {},
     "output_type": "execute_result"
    }
   ],
   "source": [
    "moon_data"
   ]
  },
  {
   "cell_type": "code",
   "execution_count": 59,
   "id": "c0a513f7",
   "metadata": {},
   "outputs": [
    {
     "data": {
      "text/html": [
       "<div>\n",
       "<style scoped>\n",
       "    .dataframe tbody tr th:only-of-type {\n",
       "        vertical-align: middle;\n",
       "    }\n",
       "\n",
       "    .dataframe tbody tr th {\n",
       "        vertical-align: top;\n",
       "    }\n",
       "\n",
       "    .dataframe thead th {\n",
       "        text-align: right;\n",
       "    }\n",
       "</style>\n",
       "<table border=\"1\" class=\"dataframe\">\n",
       "  <thead>\n",
       "    <tr style=\"text-align: right;\">\n",
       "      <th></th>\n",
       "      <th>Date_time</th>\n",
       "      <th>country</th>\n",
       "      <th>UFO_shape</th>\n",
       "      <th>length_of_encounter_seconds</th>\n",
       "      <th>date_documented</th>\n",
       "      <th>latitude</th>\n",
       "      <th>longitude</th>\n",
       "      <th>year</th>\n",
       "      <th>month</th>\n",
       "      <th>day</th>\n",
       "    </tr>\n",
       "  </thead>\n",
       "  <tbody>\n",
       "    <tr>\n",
       "      <th>0</th>\n",
       "      <td>1949-10-10 20:30:00</td>\n",
       "      <td>us</td>\n",
       "      <td>cylinder</td>\n",
       "      <td>2700</td>\n",
       "      <td>4/27/2004</td>\n",
       "      <td>29.883056</td>\n",
       "      <td>-97.941111</td>\n",
       "      <td>1949</td>\n",
       "      <td>10</td>\n",
       "      <td>10</td>\n",
       "    </tr>\n",
       "    <tr>\n",
       "      <th>2</th>\n",
       "      <td>1955-10-10 17:00:00</td>\n",
       "      <td>gb</td>\n",
       "      <td>circle</td>\n",
       "      <td>20</td>\n",
       "      <td>1/21/2008</td>\n",
       "      <td>53.200000</td>\n",
       "      <td>-2.916667</td>\n",
       "      <td>1955</td>\n",
       "      <td>10</td>\n",
       "      <td>10</td>\n",
       "    </tr>\n",
       "    <tr>\n",
       "      <th>3</th>\n",
       "      <td>1956-10-10 21:00:00</td>\n",
       "      <td>us</td>\n",
       "      <td>circle</td>\n",
       "      <td>20</td>\n",
       "      <td>1/17/2004</td>\n",
       "      <td>28.978333</td>\n",
       "      <td>-96.645833</td>\n",
       "      <td>1956</td>\n",
       "      <td>10</td>\n",
       "      <td>10</td>\n",
       "    </tr>\n",
       "    <tr>\n",
       "      <th>4</th>\n",
       "      <td>1960-10-10 20:00:00</td>\n",
       "      <td>us</td>\n",
       "      <td>light</td>\n",
       "      <td>900</td>\n",
       "      <td>1/22/2004</td>\n",
       "      <td>21.418056</td>\n",
       "      <td>-157.803611</td>\n",
       "      <td>1960</td>\n",
       "      <td>10</td>\n",
       "      <td>10</td>\n",
       "    </tr>\n",
       "    <tr>\n",
       "      <th>5</th>\n",
       "      <td>1961-10-10 19:00:00</td>\n",
       "      <td>us</td>\n",
       "      <td>sphere</td>\n",
       "      <td>300</td>\n",
       "      <td>4/27/2007</td>\n",
       "      <td>36.595000</td>\n",
       "      <td>-82.188889</td>\n",
       "      <td>1961</td>\n",
       "      <td>10</td>\n",
       "      <td>10</td>\n",
       "    </tr>\n",
       "    <tr>\n",
       "      <th>...</th>\n",
       "      <td>...</td>\n",
       "      <td>...</td>\n",
       "      <td>...</td>\n",
       "      <td>...</td>\n",
       "      <td>...</td>\n",
       "      <td>...</td>\n",
       "      <td>...</td>\n",
       "      <td>...</td>\n",
       "      <td>...</td>\n",
       "      <td>...</td>\n",
       "    </tr>\n",
       "    <tr>\n",
       "      <th>80327</th>\n",
       "      <td>2013-09-09 21:15:00</td>\n",
       "      <td>us</td>\n",
       "      <td>light</td>\n",
       "      <td>NaN</td>\n",
       "      <td>9/30/2013</td>\n",
       "      <td>NaN</td>\n",
       "      <td>-86.784444</td>\n",
       "      <td>2013</td>\n",
       "      <td>9</td>\n",
       "      <td>9</td>\n",
       "    </tr>\n",
       "    <tr>\n",
       "      <th>80328</th>\n",
       "      <td>2013-09-09 22:00:00</td>\n",
       "      <td>us</td>\n",
       "      <td>circle</td>\n",
       "      <td>NaN</td>\n",
       "      <td>9/30/2013</td>\n",
       "      <td>NaN</td>\n",
       "      <td>-116.202500</td>\n",
       "      <td>2013</td>\n",
       "      <td>9</td>\n",
       "      <td>9</td>\n",
       "    </tr>\n",
       "    <tr>\n",
       "      <th>80329</th>\n",
       "      <td>2013-09-09 22:00:00</td>\n",
       "      <td>us</td>\n",
       "      <td>other</td>\n",
       "      <td>NaN</td>\n",
       "      <td>9/30/2013</td>\n",
       "      <td>NaN</td>\n",
       "      <td>-122.284444</td>\n",
       "      <td>2013</td>\n",
       "      <td>9</td>\n",
       "      <td>9</td>\n",
       "    </tr>\n",
       "    <tr>\n",
       "      <th>80330</th>\n",
       "      <td>2013-09-09 22:20:00</td>\n",
       "      <td>us</td>\n",
       "      <td>circle</td>\n",
       "      <td>NaN</td>\n",
       "      <td>9/30/2013</td>\n",
       "      <td>NaN</td>\n",
       "      <td>-77.265556</td>\n",
       "      <td>2013</td>\n",
       "      <td>9</td>\n",
       "      <td>9</td>\n",
       "    </tr>\n",
       "    <tr>\n",
       "      <th>80331</th>\n",
       "      <td>2013-09-09 23:00:00</td>\n",
       "      <td>us</td>\n",
       "      <td>cigar</td>\n",
       "      <td>NaN</td>\n",
       "      <td>9/30/2013</td>\n",
       "      <td>NaN</td>\n",
       "      <td>-97.477778</td>\n",
       "      <td>2013</td>\n",
       "      <td>9</td>\n",
       "      <td>9</td>\n",
       "    </tr>\n",
       "  </tbody>\n",
       "</table>\n",
       "<p>69001 rows × 10 columns</p>\n",
       "</div>"
      ],
      "text/plain": [
       "                Date_time country UFO_shape length_of_encounter_seconds  \\\n",
       "0     1949-10-10 20:30:00      us  cylinder                        2700   \n",
       "2     1955-10-10 17:00:00      gb    circle                          20   \n",
       "3     1956-10-10 21:00:00      us    circle                          20   \n",
       "4     1960-10-10 20:00:00      us     light                         900   \n",
       "5     1961-10-10 19:00:00      us    sphere                         300   \n",
       "...                   ...     ...       ...                         ...   \n",
       "80327 2013-09-09 21:15:00      us     light                         NaN   \n",
       "80328 2013-09-09 22:00:00      us    circle                         NaN   \n",
       "80329 2013-09-09 22:00:00      us     other                         NaN   \n",
       "80330 2013-09-09 22:20:00      us    circle                         NaN   \n",
       "80331 2013-09-09 23:00:00      us     cigar                         NaN   \n",
       "\n",
       "      date_documented   latitude   longitude  year  month  day  \n",
       "0           4/27/2004  29.883056  -97.941111  1949     10   10  \n",
       "2           1/21/2008  53.200000   -2.916667  1955     10   10  \n",
       "3           1/17/2004  28.978333  -96.645833  1956     10   10  \n",
       "4           1/22/2004  21.418056 -157.803611  1960     10   10  \n",
       "5           4/27/2007  36.595000  -82.188889  1961     10   10  \n",
       "...               ...        ...         ...   ...    ...  ...  \n",
       "80327       9/30/2013        NaN  -86.784444  2013      9    9  \n",
       "80328       9/30/2013        NaN -116.202500  2013      9    9  \n",
       "80329       9/30/2013        NaN -122.284444  2013      9    9  \n",
       "80330       9/30/2013        NaN  -77.265556  2013      9    9  \n",
       "80331       9/30/2013        NaN  -97.477778  2013      9    9  \n",
       "\n",
       "[69001 rows x 10 columns]"
      ]
     },
     "execution_count": 59,
     "metadata": {},
     "output_type": "execute_result"
    }
   ],
   "source": [
    "ufo_data"
   ]
  },
  {
   "cell_type": "code",
   "execution_count": 52,
   "id": "8aa4d913",
   "metadata": {
    "scrolled": false
   },
   "outputs": [],
   "source": [
    "import datetime\n",
    "\n",
    "def count_sightings_moon(x):\n",
    "    \n",
    "    try:\n",
    "        sightings = ufo_data[(ufo_data['year']==x.year) & (ufo_data['month']==x.month) & (ufo_data['day']==x.day)]\n",
    "        return len(sightings)\n",
    "    except Exception as e: \n",
    "        print(e)\n",
    "   \n",
    "    return 0\n",
    "    \n",
    "    \n",
    "\n",
    "moon_data['sightings'] = [count_sightings_moon(x) for x in moon_data['date']]"
   ]
  },
  {
   "cell_type": "code",
   "execution_count": 64,
   "id": "f2c22ffd",
   "metadata": {},
   "outputs": [
    {
     "data": {
      "text/plain": [
       "phase\n",
       "first_quarter_moon     2334\n",
       "full_moons             2307\n",
       "new_moon               2549\n",
       "third_quarter_moons    2364\n",
       "Name: sightings, dtype: int64"
      ]
     },
     "execution_count": 64,
     "metadata": {},
     "output_type": "execute_result"
    }
   ],
   "source": [
    "count = moon_data.groupby(['phase'])['sightings'].sum()\n",
    "count"
   ]
  },
  {
   "cell_type": "code",
   "execution_count": 58,
   "id": "05199711",
   "metadata": {},
   "outputs": [
    {
     "data": {
      "text/plain": [
       "9554"
      ]
     },
     "execution_count": 58,
     "metadata": {},
     "output_type": "execute_result"
    }
   ],
   "source": [
    "count.sum()"
   ]
  },
  {
   "cell_type": "code",
   "execution_count": 61,
   "id": "fe5b266c",
   "metadata": {
    "scrolled": true
   },
   "outputs": [
    {
     "data": {
      "text/plain": [
       "13.595890410958905"
      ]
     },
     "execution_count": 61,
     "metadata": {},
     "output_type": "execute_result"
    }
   ],
   "source": [
    "#percentage we would be expecting \n",
    "len(moon_data)/(365*(2013-1949))*100"
   ]
  },
  {
   "cell_type": "code",
   "execution_count": 63,
   "id": "9a03a059",
   "metadata": {},
   "outputs": [
    {
     "data": {
      "text/plain": [
       "13.846176142374746"
      ]
     },
     "execution_count": 63,
     "metadata": {},
     "output_type": "execute_result"
    }
   ],
   "source": [
    "#percentage that actually took place during main moon phases\n",
    "count.sum()/len(ufo_data)*100"
   ]
  },
  {
   "cell_type": "markdown",
   "id": "e410ed92",
   "metadata": {},
   "source": [
    "chi-square test"
   ]
  },
  {
   "cell_type": "code",
   "execution_count": 54,
   "id": "2a90a67c",
   "metadata": {},
   "outputs": [
    {
     "data": {
      "text/plain": [
       "2388.5"
      ]
     },
     "execution_count": 54,
     "metadata": {},
     "output_type": "execute_result"
    }
   ],
   "source": [
    "expected = count.sum() / 4\n",
    "expected"
   ]
  },
  {
   "cell_type": "code",
   "execution_count": 55,
   "id": "9afbe8c8",
   "metadata": {},
   "outputs": [
    {
     "data": {
      "text/plain": [
       "15.06091689344777"
      ]
     },
     "execution_count": 55,
     "metadata": {},
     "output_type": "execute_result"
    }
   ],
   "source": [
    "x_2 = ((count[0]-expected)**2)/expected + ((count[1]-expected)**2)/expected + ((count[2]-expected)**2)/expected + ((count[3]-expected)**2)/expected\n",
    "\n",
    "x_2"
   ]
  },
  {
   "cell_type": "markdown",
   "id": "ae25d077",
   "metadata": {},
   "source": [
    "at significance level 0.025 this data is significantly different from what was expected. "
   ]
  },
  {
   "cell_type": "markdown",
   "id": "06b7a7ee",
   "metadata": {},
   "source": [
    "when counting all the ufo sightings that have taken place during primary moon phases, we can see that sightings are disproportionately more likely to occur during the new moon"
   ]
  },
  {
   "cell_type": "markdown",
   "id": "0949c2cd",
   "metadata": {},
   "source": [
    "### FINDING A CORRELATION BETWEEN METEORITE LANDINGS AND UFO SIGHTINGS"
   ]
  },
  {
   "cell_type": "code",
   "execution_count": 28,
   "id": "1564e153",
   "metadata": {},
   "outputs": [
    {
     "data": {
      "text/html": [
       "<div>\n",
       "<style scoped>\n",
       "    .dataframe tbody tr th:only-of-type {\n",
       "        vertical-align: middle;\n",
       "    }\n",
       "\n",
       "    .dataframe tbody tr th {\n",
       "        vertical-align: top;\n",
       "    }\n",
       "\n",
       "    .dataframe thead th {\n",
       "        text-align: right;\n",
       "    }\n",
       "</style>\n",
       "<table border=\"1\" class=\"dataframe\">\n",
       "  <thead>\n",
       "    <tr style=\"text-align: right;\">\n",
       "      <th></th>\n",
       "      <th>Date_time</th>\n",
       "      <th>city</th>\n",
       "      <th>state/province</th>\n",
       "      <th>country</th>\n",
       "      <th>UFO_shape</th>\n",
       "      <th>length_of_encounter_seconds</th>\n",
       "      <th>described_duration_of_encounter</th>\n",
       "      <th>description</th>\n",
       "      <th>date_documented</th>\n",
       "      <th>latitude</th>\n",
       "      <th>longitude</th>\n",
       "    </tr>\n",
       "  </thead>\n",
       "  <tbody>\n",
       "    <tr>\n",
       "      <th>0</th>\n",
       "      <td>10/10/1949 20:30</td>\n",
       "      <td>san marcos</td>\n",
       "      <td>tx</td>\n",
       "      <td>us</td>\n",
       "      <td>cylinder</td>\n",
       "      <td>2700</td>\n",
       "      <td>45 minutes</td>\n",
       "      <td>This event took place in early fall around 194...</td>\n",
       "      <td>4/27/2004</td>\n",
       "      <td>29.8830556</td>\n",
       "      <td>-97.941111</td>\n",
       "    </tr>\n",
       "    <tr>\n",
       "      <th>1</th>\n",
       "      <td>10/10/1949 21:00</td>\n",
       "      <td>lackland afb</td>\n",
       "      <td>tx</td>\n",
       "      <td>NaN</td>\n",
       "      <td>light</td>\n",
       "      <td>7200</td>\n",
       "      <td>1-2 hrs</td>\n",
       "      <td>1949 Lackland AFB&amp;#44 TX.  Lights racing acros...</td>\n",
       "      <td>12/16/2005</td>\n",
       "      <td>29.38421</td>\n",
       "      <td>-98.581082</td>\n",
       "    </tr>\n",
       "    <tr>\n",
       "      <th>2</th>\n",
       "      <td>10/10/1955 17:00</td>\n",
       "      <td>chester (uk/england)</td>\n",
       "      <td>NaN</td>\n",
       "      <td>gb</td>\n",
       "      <td>circle</td>\n",
       "      <td>20</td>\n",
       "      <td>20 seconds</td>\n",
       "      <td>Green/Orange circular disc over Chester&amp;#44 En...</td>\n",
       "      <td>1/21/2008</td>\n",
       "      <td>53.2</td>\n",
       "      <td>-2.916667</td>\n",
       "    </tr>\n",
       "    <tr>\n",
       "      <th>3</th>\n",
       "      <td>10/10/1956 21:00</td>\n",
       "      <td>edna</td>\n",
       "      <td>tx</td>\n",
       "      <td>us</td>\n",
       "      <td>circle</td>\n",
       "      <td>20</td>\n",
       "      <td>1/2 hour</td>\n",
       "      <td>My older brother and twin sister were leaving ...</td>\n",
       "      <td>1/17/2004</td>\n",
       "      <td>28.9783333</td>\n",
       "      <td>-96.645833</td>\n",
       "    </tr>\n",
       "    <tr>\n",
       "      <th>4</th>\n",
       "      <td>10/10/1960 20:00</td>\n",
       "      <td>kaneohe</td>\n",
       "      <td>hi</td>\n",
       "      <td>us</td>\n",
       "      <td>light</td>\n",
       "      <td>900</td>\n",
       "      <td>15 minutes</td>\n",
       "      <td>AS a Marine 1st Lt. flying an FJ4B fighter/att...</td>\n",
       "      <td>1/22/2004</td>\n",
       "      <td>21.4180556</td>\n",
       "      <td>-157.803611</td>\n",
       "    </tr>\n",
       "    <tr>\n",
       "      <th>...</th>\n",
       "      <td>...</td>\n",
       "      <td>...</td>\n",
       "      <td>...</td>\n",
       "      <td>...</td>\n",
       "      <td>...</td>\n",
       "      <td>...</td>\n",
       "      <td>...</td>\n",
       "      <td>...</td>\n",
       "      <td>...</td>\n",
       "      <td>...</td>\n",
       "      <td>...</td>\n",
       "    </tr>\n",
       "    <tr>\n",
       "      <th>80327</th>\n",
       "      <td>9/9/2013 21:15</td>\n",
       "      <td>nashville</td>\n",
       "      <td>tn</td>\n",
       "      <td>us</td>\n",
       "      <td>light</td>\n",
       "      <td>600.0</td>\n",
       "      <td>10 minutes</td>\n",
       "      <td>Round from the distance/slowly changing colors...</td>\n",
       "      <td>9/30/2013</td>\n",
       "      <td>36.165833</td>\n",
       "      <td>-86.784444</td>\n",
       "    </tr>\n",
       "    <tr>\n",
       "      <th>80328</th>\n",
       "      <td>9/9/2013 22:00</td>\n",
       "      <td>boise</td>\n",
       "      <td>id</td>\n",
       "      <td>us</td>\n",
       "      <td>circle</td>\n",
       "      <td>1200.0</td>\n",
       "      <td>20 minutes</td>\n",
       "      <td>Boise&amp;#44 ID&amp;#44 spherical&amp;#44 20 min&amp;#44 10 r...</td>\n",
       "      <td>9/30/2013</td>\n",
       "      <td>43.613611</td>\n",
       "      <td>-116.202500</td>\n",
       "    </tr>\n",
       "    <tr>\n",
       "      <th>80329</th>\n",
       "      <td>9/9/2013 22:00</td>\n",
       "      <td>napa</td>\n",
       "      <td>ca</td>\n",
       "      <td>us</td>\n",
       "      <td>other</td>\n",
       "      <td>1200.0</td>\n",
       "      <td>hour</td>\n",
       "      <td>Napa UFO&amp;#44</td>\n",
       "      <td>9/30/2013</td>\n",
       "      <td>38.297222</td>\n",
       "      <td>-122.284444</td>\n",
       "    </tr>\n",
       "    <tr>\n",
       "      <th>80330</th>\n",
       "      <td>9/9/2013 22:20</td>\n",
       "      <td>vienna</td>\n",
       "      <td>va</td>\n",
       "      <td>us</td>\n",
       "      <td>circle</td>\n",
       "      <td>5.0</td>\n",
       "      <td>5 seconds</td>\n",
       "      <td>Saw a five gold lit cicular craft moving fastl...</td>\n",
       "      <td>9/30/2013</td>\n",
       "      <td>38.901111</td>\n",
       "      <td>-77.265556</td>\n",
       "    </tr>\n",
       "    <tr>\n",
       "      <th>80331</th>\n",
       "      <td>9/9/2013 23:00</td>\n",
       "      <td>edmond</td>\n",
       "      <td>ok</td>\n",
       "      <td>us</td>\n",
       "      <td>cigar</td>\n",
       "      <td>1020.0</td>\n",
       "      <td>17 minutes</td>\n",
       "      <td>2 witnesses 2  miles apart&amp;#44 Red &amp;amp; White...</td>\n",
       "      <td>9/30/2013</td>\n",
       "      <td>35.652778</td>\n",
       "      <td>-97.477778</td>\n",
       "    </tr>\n",
       "  </tbody>\n",
       "</table>\n",
       "<p>80332 rows × 11 columns</p>\n",
       "</div>"
      ],
      "text/plain": [
       "              Date_time                  city state/province country  \\\n",
       "0      10/10/1949 20:30            san marcos             tx      us   \n",
       "1      10/10/1949 21:00          lackland afb             tx     NaN   \n",
       "2      10/10/1955 17:00  chester (uk/england)            NaN      gb   \n",
       "3      10/10/1956 21:00                  edna             tx      us   \n",
       "4      10/10/1960 20:00               kaneohe             hi      us   \n",
       "...                 ...                   ...            ...     ...   \n",
       "80327    9/9/2013 21:15             nashville             tn      us   \n",
       "80328    9/9/2013 22:00                 boise             id      us   \n",
       "80329    9/9/2013 22:00                  napa             ca      us   \n",
       "80330    9/9/2013 22:20                vienna             va      us   \n",
       "80331    9/9/2013 23:00                edmond             ok      us   \n",
       "\n",
       "      UFO_shape length_of_encounter_seconds described_duration_of_encounter  \\\n",
       "0      cylinder                        2700                      45 minutes   \n",
       "1         light                        7200                         1-2 hrs   \n",
       "2        circle                          20                      20 seconds   \n",
       "3        circle                          20                        1/2 hour   \n",
       "4         light                         900                      15 minutes   \n",
       "...         ...                         ...                             ...   \n",
       "80327     light                       600.0                      10 minutes   \n",
       "80328    circle                      1200.0                      20 minutes   \n",
       "80329     other                      1200.0                            hour   \n",
       "80330    circle                         5.0                       5 seconds   \n",
       "80331     cigar                      1020.0                      17 minutes   \n",
       "\n",
       "                                             description date_documented  \\\n",
       "0      This event took place in early fall around 194...       4/27/2004   \n",
       "1      1949 Lackland AFB&#44 TX.  Lights racing acros...      12/16/2005   \n",
       "2      Green/Orange circular disc over Chester&#44 En...       1/21/2008   \n",
       "3      My older brother and twin sister were leaving ...       1/17/2004   \n",
       "4      AS a Marine 1st Lt. flying an FJ4B fighter/att...       1/22/2004   \n",
       "...                                                  ...             ...   \n",
       "80327  Round from the distance/slowly changing colors...       9/30/2013   \n",
       "80328  Boise&#44 ID&#44 spherical&#44 20 min&#44 10 r...       9/30/2013   \n",
       "80329                                       Napa UFO&#44       9/30/2013   \n",
       "80330  Saw a five gold lit cicular craft moving fastl...       9/30/2013   \n",
       "80331  2 witnesses 2  miles apart&#44 Red &amp; White...       9/30/2013   \n",
       "\n",
       "         latitude   longitude  \n",
       "0      29.8830556  -97.941111  \n",
       "1        29.38421  -98.581082  \n",
       "2            53.2   -2.916667  \n",
       "3      28.9783333  -96.645833  \n",
       "4      21.4180556 -157.803611  \n",
       "...           ...         ...  \n",
       "80327   36.165833  -86.784444  \n",
       "80328   43.613611 -116.202500  \n",
       "80329   38.297222 -122.284444  \n",
       "80330   38.901111  -77.265556  \n",
       "80331   35.652778  -97.477778  \n",
       "\n",
       "[80332 rows x 11 columns]"
      ]
     },
     "execution_count": 28,
     "metadata": {},
     "output_type": "execute_result"
    }
   ],
   "source": [
    "ufo_data_clone_2"
   ]
  },
  {
   "cell_type": "code",
   "execution_count": 29,
   "id": "ee800132",
   "metadata": {},
   "outputs": [],
   "source": [
    "len(meteorite_data)\n",
    "ufo_data = ufo_data_clone_2\n",
    "ufo_data = ufo_data.drop(['described_duration_of_encounter', 'description', 'city', 'state/province'], axis=1)\n",
    "ufo_data = ufo_data.dropna()\n",
    "\n",
    "#changing invalid values\n",
    "ufo_data['Date_time'] = ufo_data['Date_time'].str.replace('24:','00:')\n",
    "ufo_data['length_of_encounter_seconds'] = ufo_data['length_of_encounter_seconds'].str.replace('`', '')\n",
    "ufo_data['latitude'] = ufo_data['latitude'].str.replace('q', '')\n",
    "\n",
    "ufo_data['year'] = pd.to_datetime(ufo_data['Date_time']).dt.year\n",
    "ufo_data['longitude'] = ufo_data['longitude'].astype(float)\n",
    "ufo_data['latitude'] = ufo_data['latitude'].astype(float)"
   ]
  },
  {
   "cell_type": "code",
   "execution_count": 30,
   "id": "2dc25b0b",
   "metadata": {
    "scrolled": true
   },
   "outputs": [
    {
     "data": {
      "text/html": [
       "<div>\n",
       "<style scoped>\n",
       "    .dataframe tbody tr th:only-of-type {\n",
       "        vertical-align: middle;\n",
       "    }\n",
       "\n",
       "    .dataframe tbody tr th {\n",
       "        vertical-align: top;\n",
       "    }\n",
       "\n",
       "    .dataframe thead th {\n",
       "        text-align: right;\n",
       "    }\n",
       "</style>\n",
       "<table border=\"1\" class=\"dataframe\">\n",
       "  <thead>\n",
       "    <tr style=\"text-align: right;\">\n",
       "      <th></th>\n",
       "      <th>name</th>\n",
       "      <th>nametype</th>\n",
       "      <th>recclass</th>\n",
       "      <th>mass (g)</th>\n",
       "      <th>fall</th>\n",
       "      <th>year</th>\n",
       "      <th>reclat</th>\n",
       "      <th>reclong</th>\n",
       "      <th>longitude</th>\n",
       "      <th>latitude</th>\n",
       "    </tr>\n",
       "  </thead>\n",
       "  <tbody>\n",
       "    <tr>\n",
       "      <th>1</th>\n",
       "      <td>Aarhus</td>\n",
       "      <td>Valid</td>\n",
       "      <td>H6</td>\n",
       "      <td>720.0</td>\n",
       "      <td>Fell</td>\n",
       "      <td>1951.0</td>\n",
       "      <td>56.18333</td>\n",
       "      <td>10.23333</td>\n",
       "      <td>56.183330</td>\n",
       "      <td>10.23333</td>\n",
       "    </tr>\n",
       "    <tr>\n",
       "      <th>2</th>\n",
       "      <td>Abee</td>\n",
       "      <td>Valid</td>\n",
       "      <td>EH4</td>\n",
       "      <td>107000.0</td>\n",
       "      <td>Fell</td>\n",
       "      <td>1952.0</td>\n",
       "      <td>54.21667</td>\n",
       "      <td>-113.00000</td>\n",
       "      <td>54.216670</td>\n",
       "      <td>-113.00000</td>\n",
       "    </tr>\n",
       "    <tr>\n",
       "      <th>3</th>\n",
       "      <td>Acapulco</td>\n",
       "      <td>Valid</td>\n",
       "      <td>Acapulcoite</td>\n",
       "      <td>1914.0</td>\n",
       "      <td>Fell</td>\n",
       "      <td>1976.0</td>\n",
       "      <td>16.88333</td>\n",
       "      <td>-99.90000</td>\n",
       "      <td>16.883330</td>\n",
       "      <td>-99.90000</td>\n",
       "    </tr>\n",
       "    <tr>\n",
       "      <th>6</th>\n",
       "      <td>Adzhi-Bogdo (stone)</td>\n",
       "      <td>Valid</td>\n",
       "      <td>LL3-6</td>\n",
       "      <td>910.0</td>\n",
       "      <td>Fell</td>\n",
       "      <td>1949.0</td>\n",
       "      <td>44.83333</td>\n",
       "      <td>95.16667</td>\n",
       "      <td>44.833330</td>\n",
       "      <td>95.16667</td>\n",
       "    </tr>\n",
       "    <tr>\n",
       "      <th>10</th>\n",
       "      <td>Aioun el Atrouss</td>\n",
       "      <td>Valid</td>\n",
       "      <td>Diogenite-pm</td>\n",
       "      <td>1000.0</td>\n",
       "      <td>Fell</td>\n",
       "      <td>1974.0</td>\n",
       "      <td>16.39806</td>\n",
       "      <td>-9.57028</td>\n",
       "      <td>16.398060</td>\n",
       "      <td>-9.57028</td>\n",
       "    </tr>\n",
       "    <tr>\n",
       "      <th>...</th>\n",
       "      <td>...</td>\n",
       "      <td>...</td>\n",
       "      <td>...</td>\n",
       "      <td>...</td>\n",
       "      <td>...</td>\n",
       "      <td>...</td>\n",
       "      <td>...</td>\n",
       "      <td>...</td>\n",
       "      <td>...</td>\n",
       "      <td>...</td>\n",
       "    </tr>\n",
       "    <tr>\n",
       "      <th>2822</th>\n",
       "      <td>Zillah 001</td>\n",
       "      <td>Valid</td>\n",
       "      <td>L6</td>\n",
       "      <td>1475.0</td>\n",
       "      <td>Found</td>\n",
       "      <td>1990.0</td>\n",
       "      <td>29.03700</td>\n",
       "      <td>17.01850</td>\n",
       "      <td>29.037000</td>\n",
       "      <td>17.01850</td>\n",
       "    </tr>\n",
       "    <tr>\n",
       "      <th>2823</th>\n",
       "      <td>Zillah 002</td>\n",
       "      <td>Valid</td>\n",
       "      <td>Eucrite</td>\n",
       "      <td>172.0</td>\n",
       "      <td>Found</td>\n",
       "      <td>1990.0</td>\n",
       "      <td>29.03700</td>\n",
       "      <td>17.01850</td>\n",
       "      <td>29.037000</td>\n",
       "      <td>17.01850</td>\n",
       "    </tr>\n",
       "    <tr>\n",
       "      <th>2824</th>\n",
       "      <td>Zinder</td>\n",
       "      <td>Valid</td>\n",
       "      <td>Pallasite, ungrouped</td>\n",
       "      <td>46.0</td>\n",
       "      <td>Found</td>\n",
       "      <td>1999.0</td>\n",
       "      <td>13.78333</td>\n",
       "      <td>8.96667</td>\n",
       "      <td>13.783330</td>\n",
       "      <td>8.96667</td>\n",
       "    </tr>\n",
       "    <tr>\n",
       "      <th>2826</th>\n",
       "      <td>Zubkovsky</td>\n",
       "      <td>Valid</td>\n",
       "      <td>L6</td>\n",
       "      <td>2167.0</td>\n",
       "      <td>Found</td>\n",
       "      <td>2003.0</td>\n",
       "      <td>49.78917</td>\n",
       "      <td>41.50460</td>\n",
       "      <td>49.789170</td>\n",
       "      <td>41.50460</td>\n",
       "    </tr>\n",
       "    <tr>\n",
       "      <th>2827</th>\n",
       "      <td>Zulu Queen</td>\n",
       "      <td>Valid</td>\n",
       "      <td>L3.7</td>\n",
       "      <td>200.0</td>\n",
       "      <td>Found</td>\n",
       "      <td>1976.0</td>\n",
       "      <td>33.98333</td>\n",
       "      <td>-115.68333</td>\n",
       "      <td>33.983330</td>\n",
       "      <td>-115.68333</td>\n",
       "    </tr>\n",
       "  </tbody>\n",
       "</table>\n",
       "<p>2043 rows × 10 columns</p>\n",
       "</div>"
      ],
      "text/plain": [
       "                     name nametype              recclass  mass (g)   fall  \\\n",
       "1                  Aarhus    Valid                    H6     720.0   Fell   \n",
       "2                    Abee    Valid                   EH4  107000.0   Fell   \n",
       "3                Acapulco    Valid           Acapulcoite    1914.0   Fell   \n",
       "6     Adzhi-Bogdo (stone)    Valid                 LL3-6     910.0   Fell   \n",
       "10       Aioun el Atrouss    Valid          Diogenite-pm    1000.0   Fell   \n",
       "...                   ...      ...                   ...       ...    ...   \n",
       "2822           Zillah 001    Valid                    L6    1475.0  Found   \n",
       "2823           Zillah 002    Valid               Eucrite     172.0  Found   \n",
       "2824               Zinder    Valid  Pallasite, ungrouped      46.0  Found   \n",
       "2826            Zubkovsky    Valid                    L6    2167.0  Found   \n",
       "2827           Zulu Queen    Valid                  L3.7     200.0  Found   \n",
       "\n",
       "        year    reclat    reclong  longitude    latitude  \n",
       "1     1951.0  56.18333   10.23333  56.183330    10.23333  \n",
       "2     1952.0  54.21667 -113.00000  54.216670  -113.00000  \n",
       "3     1976.0  16.88333  -99.90000  16.883330   -99.90000  \n",
       "6     1949.0  44.83333   95.16667  44.833330    95.16667  \n",
       "10    1974.0  16.39806   -9.57028  16.398060    -9.57028  \n",
       "...      ...       ...        ...        ...         ...  \n",
       "2822  1990.0  29.03700   17.01850  29.037000    17.01850  \n",
       "2823  1990.0  29.03700   17.01850  29.037000    17.01850  \n",
       "2824  1999.0  13.78333    8.96667  13.783330     8.96667  \n",
       "2826  2003.0  49.78917   41.50460  49.789170    41.50460  \n",
       "2827  1976.0  33.98333 -115.68333  33.983330  -115.68333  \n",
       "\n",
       "[2043 rows x 10 columns]"
      ]
     },
     "execution_count": 30,
     "metadata": {},
     "output_type": "execute_result"
    }
   ],
   "source": [
    "meteorite_data['longitude'] = meteorite_data['GeoLocation'].str.split(', ').str[0].str[1:]\n",
    "meteorite_data['latitude'] = meteorite_data['GeoLocation'].str.split(', ').str[1].str[:-2]\n",
    "meteorite_data = meteorite_data.drop(['GeoLocation'], axis= 1)\n",
    "\n",
    "meteorite_data['year'] = pd.to_datetime(meteorite_data['year'], errors = 'coerce').dt.year\n",
    "meteorite_data = meteorite_data.dropna()\n",
    "meteorite_data = meteorite_data[meteorite_data['year'] <= 2013]\n",
    "meteorite_data = meteorite_data[meteorite_data['year'] >= 1949]\n",
    "\n",
    "meteorite_data"
   ]
  },
  {
   "cell_type": "code",
   "execution_count": 31,
   "id": "b2695ecc",
   "metadata": {},
   "outputs": [],
   "source": [
    "import geopy.distance\n",
    "\n",
    "def count_sightings_meteorites(year, longitude, latitude): \n",
    "    #theoretically we can see meteorites from up to 1120 km away\n",
    "    value = ufo_data[(ufo_data['year'] == year) & (abs(float(latitude)-ufo_data['latitude']) < 11)]\n",
    "    if(len(value) > 0):\n",
    "        value['meteorite'] = value.apply(lambda row: close_enough_to_see(latitude, longitude, row.latitude, row.longitude), axis = 1)\n",
    "        return value['meteorite'].sum()\n",
    "    return 0\n",
    "    \n",
    "def close_enough_to_see(lat1, lon1, lat2, lon2):\n",
    "    try:\n",
    "        if geopy.distance.geodesic((lat1, lon1), (lat2, lon2)).km < 1120:\n",
    "            return 1\n",
    "    except:\n",
    "        pass\n",
    "    return 0\n",
    "    \n",
    "meteorite_data['sightings'] = meteorite_data.apply(lambda row: count_sightings_meteorites(row.year, row.longitude, row.latitude), axis=1)\n",
    "sightings_with_connection_to_meteorites = meteorite_data['sightings'].sum()"
   ]
  },
  {
   "cell_type": "code",
   "execution_count": 32,
   "id": "eea03231",
   "metadata": {},
   "outputs": [
    {
     "data": {
      "text/plain": [
       "2.1796785553832554"
      ]
     },
     "execution_count": 32,
     "metadata": {},
     "output_type": "execute_result"
    }
   ],
   "source": [
    "sightings_with_connection_to_meteorites / len(ufo_data)*100"
   ]
  },
  {
   "cell_type": "markdown",
   "id": "a4e8edd9",
   "metadata": {},
   "source": [
    "out of all the sightings 2.18% happened in the same year and close enough to see to a documented meteorite landing. since we know only the year of the meteorite landing there is a good chance a lot of the sightings counted actually happened a long time apart. so this estimate is very optimistic and it is still very small. "
   ]
  }
 ],
 "metadata": {
  "kernelspec": {
   "display_name": "Python 3 (ipykernel)",
   "language": "python",
   "name": "python3"
  },
  "language_info": {
   "codemirror_mode": {
    "name": "ipython",
    "version": 3
   },
   "file_extension": ".py",
   "mimetype": "text/x-python",
   "name": "python",
   "nbconvert_exporter": "python",
   "pygments_lexer": "ipython3",
   "version": "3.9.12"
  }
 },
 "nbformat": 4,
 "nbformat_minor": 5
}
