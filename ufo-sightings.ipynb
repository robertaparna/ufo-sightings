{
 "cells": [
  {
   "cell_type": "code",
   "execution_count": null,
   "id": "6a369c16",
   "metadata": {},
   "outputs": [],
   "source": [
    "import pandas as pd"
   ]
  },
  {
   "cell_type": "markdown",
   "id": "1dfcc377",
   "metadata": {},
   "source": [
    "importing data"
   ]
  },
  {
   "cell_type": "code",
   "execution_count": null,
   "id": "0205951d",
   "metadata": {},
   "outputs": [],
   "source": [
    "ufo_data = pd.read_csv(\"ufo_sighting_data.csv\")\n",
    "moon_data_raw = pd.read_html(\"lunar_calendar.html\")\n",
    "meteorite_data = pd.read_csv(\"meteorite_data.csv\")"
   ]
  },
  {
   "cell_type": "markdown",
   "id": "a5621579",
   "metadata": {},
   "source": [
    "moon phase data needs some work"
   ]
  },
  {
   "cell_type": "code",
   "execution_count": null,
   "id": "5a4de526",
   "metadata": {},
   "outputs": [],
   "source": [
    "#making a usable dataframe\n",
    "moon_data = moon_data_raw[0]\n",
    "moon_data = moon_data.drop(['Unnamed: 0'], axis= 1)\n",
    "moon_data = moon_data.rename(columns = {'Unnamed: 1' : 'new_moons', 'Unnamed: 2' : 'first_quarter_moon', 'Unnamed: 3' : 'full_moons', 'Unnamed: 4' : 'third_quarter_moons'})\n",
    "moon_data = moon_data.drop([0, 1])\n",
    "moon_data\n",
    "\n",
    "#disregarding data with dates out ouf sightings data scope\n",
    "\n",
    "moon_data['new_moons']\n"
   ]
  },
  {
   "cell_type": "code",
   "execution_count": null,
   "id": "779071a3",
   "metadata": {},
   "outputs": [],
   "source": [
    "ufo_data"
   ]
  }
 ],
 "metadata": {
  "kernelspec": {
   "display_name": "Python 3 (ipykernel)",
   "language": "python",
   "name": "python3"
  },
  "language_info": {
   "codemirror_mode": {
    "name": "ipython",
    "version": 3
   },
   "file_extension": ".py",
   "mimetype": "text/x-python",
   "name": "python",
   "nbconvert_exporter": "python",
   "pygments_lexer": "ipython3",
   "version": "3.9.12"
  }
 },
 "nbformat": 4,
 "nbformat_minor": 5
}
